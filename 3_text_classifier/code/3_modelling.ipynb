{
 "cells": [
  {
   "cell_type": "markdown",
   "metadata": {},
   "source": [
    "# Project 3: Web Application Programming Interface (API) & Natural Language Processing (NLP)\n",
    "\n",
    "### Part 3\n",
    "\n",
    "----"
   ]
  },
  {
   "cell_type": "markdown",
   "metadata": {},
   "source": [
    "### Contents"
   ]
  },
  {
   "cell_type": "markdown",
   "metadata": {},
   "source": [
    "[**Part 1**](../code/1_data_scraping.ipynb):\n",
    "\n",
    "1. Data Scraping\n",
    "\n",
    "[**Part 2**](../code/2_data_cleaning_eda.ipynb):\n",
    "\n",
    "2. Data Cleaning\n",
    "3. Preprocessing\n",
    "4. Exploratory Data Analysis\n",
    "\n",
    "**Part 3** (This workbook):\n",
    "\n",
    "5. [Model Selection](#5.Model-Selection)\n",
    "6. [Conclusion and Recommendations](#6.Conclusion-and-Recommendations)"
   ]
  },
  {
   "cell_type": "markdown",
   "metadata": {},
   "source": [
    "## 5.Model Selection"
   ]
  },
  {
   "cell_type": "code",
   "execution_count": 1,
   "metadata": {},
   "outputs": [],
   "source": [
    "# Import libraries \n",
    "import numpy as np\n",
    "import pandas as pd\n",
    "import scipy.stats as stats\n",
    "\n",
    "# Data scraping \n",
    "import requests\n",
    "\n",
    "# Visual\n",
    "import seaborn as sns\n",
    "import matplotlib.pyplot as plt\n",
    "%matplotlib inline\n",
    "\n",
    "# Pre-processing\n",
    "#!pip install emoji \n",
    "import emoji\n",
    "#!pip install nltk\n",
    "import nltk\n",
    "#!pip install wordcloud\n",
    "from wordcloud import WordCloud, STOPWORDS\n",
    "#!pip install regex\n",
    "import re\n",
    "\n",
    "# Modelling\n",
    "from sklearn.feature_extraction.text import CountVectorizer, TfidfVectorizer\n",
    "from sklearn.model_selection import train_test_split, cross_val_score, GridSearchCV\n",
    "from sklearn.pipeline import Pipeline\n",
    "from sklearn.linear_model import LogisticRegression \n",
    "from sklearn.naive_bayes import MultinomialNB\n",
    "from sklearn.ensemble import RandomForestClassifier\n",
    "from sklearn.metrics import confusion_matrix, classification_report, plot_roc_curve, roc_auc_score, \\\n",
    "                            accuracy_score, precision_score, recall_score, f1_score, plot_confusion_matrix\n",
    "\n",
    "# NLP\n",
    "from nltk.stem import WordNetLemmatizer\n",
    "from nltk.tokenize import sent_tokenize, word_tokenize\n",
    "from nltk.corpus import stopwords\n",
    "import string\n",
    "\n",
    "# Others\n",
    "import time\n",
    "import datetime as dt\n",
    "\n",
    "pd.set_option('display.max_columns', None)\n",
    "pd.set_option('display.max_rows', None)\n",
    "pd.set_option('display.max_colwidth', 100)\n",
    "\n",
    "import warnings \n",
    "warnings.filterwarnings('ignore')"
   ]
  },
  {
   "cell_type": "markdown",
   "metadata": {},
   "source": [
    "Referring back to the problem statement, the objective of the model is to predict which of the two subreddits (r/Samsung or r/Apple) does a post belong to (i.e. binary classification problem). \n",
    "\n",
    "From the data inspection and EDA, the words in the 'text' column, which consists of contents combined from 'title' and 'selftext', seem to have some predictive value. Therefore, we will use the 'text' column as the predictor X-variable in our attempt to predict the target Y-variable, 'is_samsung'. \n",
    "\n",
    "We will employ a range of supervised learning techniques below with data vectorized using **CountVectorizer** and **TfidVectorizer** (Term Frequency Inverse Document Frequency Vectorizer), starting with the default hyperparameters before performing tuning using Grid Search CV: \n",
    "- Logistic Regression;\n",
    "- Multinomial Naive Bayes Classifier; and\n",
    "- Random Forest Classifier\n"
   ]
  },
  {
   "cell_type": "code",
   "execution_count": 2,
   "metadata": {},
   "outputs": [],
   "source": [
    "# Load data\n",
    "df = pd.read_csv('../data/df.csv', low_memory = False)"
   ]
  },
  {
   "cell_type": "code",
   "execution_count": 3,
   "metadata": {},
   "outputs": [
    {
     "data": {
      "text/plain": [
       "(14359, 12)"
      ]
     },
     "execution_count": 3,
     "metadata": {},
     "output_type": "execute_result"
    }
   ],
   "source": [
    "# Check shape of df\n",
    "df.shape"
   ]
  },
  {
   "cell_type": "code",
   "execution_count": 4,
   "metadata": {},
   "outputs": [],
   "source": [
    "# Create feature matrix (X) and target (y)\n",
    "X = df['text']\n",
    "y = df['is_samsung']"
   ]
  },
  {
   "cell_type": "code",
   "execution_count": 5,
   "metadata": {},
   "outputs": [
    {
     "data": {
      "text/plain": [
       "0    0.507765\n",
       "1    0.492235\n",
       "Name: is_samsung, dtype: float64"
      ]
     },
     "execution_count": 5,
     "metadata": {},
     "output_type": "execute_result"
    }
   ],
   "source": [
    "# Check if our classes are balance\n",
    "y.value_counts(normalize = True)"
   ]
  },
  {
   "cell_type": "code",
   "execution_count": 6,
   "metadata": {},
   "outputs": [],
   "source": [
    "# Perform Train/Test split\n",
    "X_train, X_test, y_train, y_test = train_test_split(X, \n",
    "                                                    y, \n",
    "                                                    random_state=42, \n",
    "                                                    test_size= 0.25,  # by default, test_size = 0.25\n",
    "                                                    shuffle=True,    # shuffling df because r/Samsung appears at the top while r/Apple appears at the bottom\n",
    "                                                    stratify=y)      # stratifying is applied to mitigate imbalanced classes"
   ]
  },
  {
   "cell_type": "code",
   "execution_count": 7,
   "metadata": {},
   "outputs": [
    {
     "name": "stdout",
     "output_type": "stream",
     "text": [
      "(10769,)\n",
      "(3590,)\n",
      "(10769,)\n",
      "(3590,)\n"
     ]
    }
   ],
   "source": [
    "# Check train and test data\n",
    "print(X_train.shape)\n",
    "print(X_test.shape)\n",
    "print(y_train.shape)\n",
    "print(y_test.shape)"
   ]
  },
  {
   "cell_type": "markdown",
   "metadata": {},
   "source": [
    "### 5.1.Baseline Model"
   ]
  },
  {
   "cell_type": "markdown",
   "metadata": {},
   "source": [
    "Our baseline model is set up using the normalized value of y_train. We will evaluate the performance of the selected model by comparing the accuracy score of the predictions against this baseline model. \n",
    "\n",
    "The baseline model would predict class 0 (r/Apple) for all posts (since it is > 0.5), and it would be accurate about 50.7799% of the time. "
   ]
  },
  {
   "cell_type": "code",
   "execution_count": 8,
   "metadata": {},
   "outputs": [
    {
     "data": {
      "text/plain": [
       "0    0.507799\n",
       "1    0.492201\n",
       "Name: is_samsung, dtype: float64"
      ]
     },
     "execution_count": 8,
     "metadata": {},
     "output_type": "execute_result"
    }
   ],
   "source": [
    "# Check Baseline Model accuracy score on y_test\n",
    "y_test.value_counts(normalize = True)"
   ]
  },
  {
   "cell_type": "markdown",
   "metadata": {},
   "source": [
    "### 5.2. Evaluation Metrics "
   ]
  },
  {
   "cell_type": "markdown",
   "metadata": {},
   "source": [
    "We will be measuring the performance of our classifier model by looking at several metrics, with a primary focus on:\n",
    "- Accuracy (ideally > 0.8 accuracy score and minimally better than baseline accuracy) as we are less concerned about minimizing the false negatives and false positives; and\n",
    "- Generalisability (Little signs of overfitting; variance between the 'train' and 'test' scores is low)\n",
    "\n",
    "In addition, as the classes are rather balanced, lesser emphasis will be placed on F1-scores. \n",
    "\n",
    "The following are descriptors of the evaluation metrics that we will take into consideration: \n",
    "\n",
    "**Cross Validation Score** : expected accuracy of the model on out-of-training data\n",
    "\n",
    "**Accuracy** : the proportion of the total number of predictions that were correct. \n",
    "\n",
    "    - (tp+tn)/(tp+fp+tn+fn) \n",
    "\n",
    "**Precision** : the proportion of positive cases that were correctly identified. \n",
    "\n",
    "    - tp/(tp+fp)\n",
    "\n",
    "**Recall** : the proportion of actual positive cases which were correctly identified. \n",
    "\n",
    "    - tp/(tp+fn)\n",
    "\n",
    "**F1-score** : the harmonic mean of Precision and Recall. In practice, when we try to increase the precision of our model, the recall goes down, and vice-versa. The F1-score captures both the trends in a single value. \n",
    "\n",
    "    - (2 * Recall * Precision)/(Recall + Precision)\n",
    "    \n",
    "**Receiver Operating Characteristic-Area Under Curve (ROC-AUC)** : ROC is the probability curve and AUC represents the degree or measure of separability. It tells how much the model is capable of distinguishing between classes. Higher the AUC, the better the model is at predicting 0 classes as 0 and 1 classes as 1."
   ]
  },
  {
   "cell_type": "markdown",
   "metadata": {},
   "source": [
    "### 5.3.Model Preparation"
   ]
  },
  {
   "cell_type": "markdown",
   "metadata": {},
   "source": [
    "Whenever we apply any algorithm to textual data, we need to convert the text to a numeric form. Hence, there arises a need for some pre-processing techniques that can convert our text to numbers. Both **CountVectorizer** and **TfidVectorizer** are pre-processing techniques that can generate a numeric form from an input text.\n",
    "\n",
    "CountVectorizer converts text into fixed-length vectors by counting how many times each word appears.\n",
    "\n",
    "On the other hand, TFIDF is a numerical statistic that is intended to reflect how important a word is to a document in a collection or corpus. TfidVectorizer works by proportionally increasing the number of times a word appears in the document but is counterbalanced by the number of posts in which it is present. Hence, words that are commonly present in all the posts are not given a very high rank. However, a word that is present too many times in a few of the posts will be given a higher rank as it might be indicative of the context of the posts."
   ]
  },
  {
   "cell_type": "code",
   "execution_count": 9,
   "metadata": {},
   "outputs": [],
   "source": [
    "# Instantiate vectorizers\n",
    "vectorizers = {'cvec': CountVectorizer(),\n",
    "               'tvec': TfidfVectorizer()}"
   ]
  },
  {
   "cell_type": "code",
   "execution_count": 10,
   "metadata": {},
   "outputs": [],
   "source": [
    "# Instantiate models\n",
    "models = {'lr': LogisticRegression(max_iter=1000, random_state=42),\n",
    "          'mnb': MultinomialNB(),\n",
    "          'rf': RandomForestClassifier(random_state=42)\n",
    "          }                                             \n",
    "\n",
    "# To avoid variances in model numeric evaluation output, set the seed to a consistent number for model-to-model comparison"
   ]
  },
  {
   "cell_type": "code",
   "execution_count": 11,
   "metadata": {},
   "outputs": [],
   "source": [
    "# Function to run model -- input vectorizer and model\n",
    "def run_model(vec, mod, vec_params={}, mod_params={}, grid_search=False):\n",
    "    \n",
    "    results = {}      # Collect results in a dict\n",
    "    \n",
    "    pipe = Pipeline([           # This pipeline is for default hyperparameters\n",
    "            (vec, vectorizers[vec]),\n",
    "            (mod, models[mod])\n",
    "            ])\n",
    "    \n",
    "    if grid_search:             # This pipeline is for tuning of hyperparameters\n",
    "        gs = GridSearchCV(pipe, param_grid = {**vec_params, **mod_params}, cv=5, verbose=1, n_jobs=-1)\n",
    "        gs.fit(X_train, y_train)\n",
    "        pipe = gs\n",
    "        \n",
    "    else:\n",
    "        pipe.fit(X_train, y_train)\n",
    "    \n",
    "    # Retrieve metrics\n",
    "    results['model'] = mod\n",
    "    results['vectorizer'] = vec\n",
    "    results['cross_val_score'] = cross_val_score(pipe, X_train, y_train, cv=5).mean()\n",
    "    results['train'] = pipe.score(X_train, y_train)\n",
    "    results['test'] = pipe.score(X_test, y_test)\n",
    "    predictions = pipe.predict(X_test)\n",
    "    results['roc'] = roc_auc_score(y_test, predictions)\n",
    "    results['precision'] = precision_score(y_test, predictions)\n",
    "    results['recall'] = recall_score(y_test, predictions)\n",
    "    results['f1_score'] = f1_score(y_test, predictions)\n",
    "    \n",
    "    if grid_search:\n",
    "        tuning_list.append(results)\n",
    "        print('### BEST PARAMS ###')\n",
    "        display(pipe.best_params_)\n",
    "        \n",
    "    else:\n",
    "        eval_list.append(results)\n",
    "    \n",
    "    print('### METRICS ###')\n",
    "    display(results)\n",
    "    \n",
    "    tn, fp, fn, tp = confusion_matrix(y_test, predictions).ravel()\n",
    "    print(f\"True Negatives: {tn}\")\n",
    "    print(f\"False Positives: {fp}\")\n",
    "    print(f\"False Negatives: {fn}\")\n",
    "    print(f\"True Positives: {tp}\")\n",
    "    \n",
    "    return pipe"
   ]
  },
  {
   "cell_type": "code",
   "execution_count": 12,
   "metadata": {},
   "outputs": [],
   "source": [
    "# Create list to store model testing results\n",
    "eval_list = []"
   ]
  },
  {
   "cell_type": "markdown",
   "metadata": {},
   "source": [
    "### 5.4.Models (with default hyperparameters)"
   ]
  },
  {
   "cell_type": "markdown",
   "metadata": {},
   "source": [
    "Firstly, we will run all 3 models with their default hyperparameters. "
   ]
  },
  {
   "cell_type": "markdown",
   "metadata": {},
   "source": [
    "### Logistic Regression (with default hyperparameters)"
   ]
  },
  {
   "cell_type": "markdown",
   "metadata": {},
   "source": [
    "Logistic Regression is a classification algorithm. It is used to predict a binary outcome (1 / 0, Yes / No, True / False) given a set of independent variables. Hence, the use of this model is appropriate given our problem statement, which to predict whether a subreddit belongs to r/Samsung or r/Apple. "
   ]
  },
  {
   "cell_type": "code",
   "execution_count": 13,
   "metadata": {},
   "outputs": [
    {
     "name": "stdout",
     "output_type": "stream",
     "text": [
      "### METRICS ###\n"
     ]
    },
    {
     "data": {
      "text/plain": [
       "{'model': 'lr',\n",
       " 'vectorizer': 'cvec',\n",
       " 'cross_val_score': 0.9490204982704273,\n",
       " 'train': 0.9970285077537375,\n",
       " 'test': 0.9417827298050139,\n",
       " 'roc': 0.9418945990070287,\n",
       " 'precision': 0.9337416481069042,\n",
       " 'recall': 0.9490662139219015,\n",
       " 'f1_score': 0.9413415660959864}"
      ]
     },
     "metadata": {},
     "output_type": "display_data"
    },
    {
     "name": "stdout",
     "output_type": "stream",
     "text": [
      "True Negatives: 1704\n",
      "False Positives: 119\n",
      "False Negatives: 90\n",
      "True Positives: 1677\n"
     ]
    }
   ],
   "source": [
    "# Logistic Regression with CountVectorizer (with default hyperparameters)\n",
    "cvec_lr = run_model('cvec', 'lr')"
   ]
  },
  {
   "cell_type": "code",
   "execution_count": 14,
   "metadata": {},
   "outputs": [
    {
     "name": "stdout",
     "output_type": "stream",
     "text": [
      "### METRICS ###\n"
     ]
    },
    {
     "data": {
      "text/plain": [
       "{'model': 'lr',\n",
       " 'vectorizer': 'tvec',\n",
       " 'cross_val_score': 0.9544993684181472,\n",
       " 'train': 0.9801281456031201,\n",
       " 'test': 0.9495821727019499,\n",
       " 'roc': 0.9496350940522613,\n",
       " 'precision': 0.9450056116722784,\n",
       " 'recall': 0.9530277306168647,\n",
       " 'f1_score': 0.9489997182304875}"
      ]
     },
     "metadata": {},
     "output_type": "display_data"
    },
    {
     "name": "stdout",
     "output_type": "stream",
     "text": [
      "True Negatives: 1725\n",
      "False Positives: 98\n",
      "False Negatives: 83\n",
      "True Positives: 1684\n"
     ]
    }
   ],
   "source": [
    "# Logistic Regression with TfidfVectorizer (with default hyperparameters)\n",
    "tvec_lr = run_model('tvec', 'lr')"
   ]
  },
  {
   "cell_type": "markdown",
   "metadata": {},
   "source": [
    "### Multinomial Naive Bayes Classifier (with default hyperparameters)"
   ]
  },
  {
   "cell_type": "markdown",
   "metadata": {},
   "source": [
    "The Naive Bayes algorithm is a classification technique based on Bayes’ Theorem with an assumption of independence among predictors. While there are a few common types of Naive Bayes classifier, such as Bernoulli,  Gaussian and Multinomial, we will explore the Multinomial Naive Bayes classifier here as it is suitable for classification with discrete features (e.g., word counts for text classification). "
   ]
  },
  {
   "cell_type": "code",
   "execution_count": 15,
   "metadata": {},
   "outputs": [
    {
     "name": "stdout",
     "output_type": "stream",
     "text": [
      "### METRICS ###\n"
     ]
    },
    {
     "data": {
      "text/plain": [
       "{'model': 'mnb',\n",
       " 'vectorizer': 'cvec',\n",
       " 'cross_val_score': 0.9349059268641582,\n",
       " 'train': 0.9612777416658929,\n",
       " 'test': 0.9303621169916435,\n",
       " 'roc': 0.9308580140386887,\n",
       " 'precision': 0.9023872679045093,\n",
       " 'recall': 0.9626485568760611,\n",
       " 'f1_score': 0.9315443592552027}"
      ]
     },
     "metadata": {},
     "output_type": "display_data"
    },
    {
     "name": "stdout",
     "output_type": "stream",
     "text": [
      "True Negatives: 1639\n",
      "False Positives: 184\n",
      "False Negatives: 66\n",
      "True Positives: 1701\n"
     ]
    }
   ],
   "source": [
    "# Multinomial Naive Bayes Classifier with CountVectorizer (with default hyperparameters)\n",
    "cvec_mnb = run_model('cvec', 'mnb')"
   ]
  },
  {
   "cell_type": "code",
   "execution_count": 16,
   "metadata": {},
   "outputs": [
    {
     "name": "stdout",
     "output_type": "stream",
     "text": [
      "### METRICS ###\n"
     ]
    },
    {
     "data": {
      "text/plain": [
       "{'model': 'mnb',\n",
       " 'vectorizer': 'tvec',\n",
       " 'cross_val_score': 0.9359274549860466,\n",
       " 'train': 0.9669421487603306,\n",
       " 'test': 0.9253481894150418,\n",
       " 'roc': 0.9255473278776719,\n",
       " 'precision': 0.9124931205283434,\n",
       " 'recall': 0.9383135257498585,\n",
       " 'f1_score': 0.9252232142857142}"
      ]
     },
     "metadata": {},
     "output_type": "display_data"
    },
    {
     "name": "stdout",
     "output_type": "stream",
     "text": [
      "True Negatives: 1664\n",
      "False Positives: 159\n",
      "False Negatives: 109\n",
      "True Positives: 1658\n"
     ]
    }
   ],
   "source": [
    "# Multinomial Naive Bayes Classifier with TfidfVectorizer (with default hyperparameters)\n",
    "tvec_mnb = run_model('tvec', 'mnb')"
   ]
  },
  {
   "cell_type": "markdown",
   "metadata": {},
   "source": [
    "### Random Forest Classifier (with default hyperparameters)"
   ]
  },
  {
   "cell_type": "markdown",
   "metadata": {},
   "source": [
    "The last model that we will explore is the Random Forest Classifer. Random forest is a Supervised Machine Learning algorithm that is used widely in classification and regression problems. It builds decision trees on different samples and takes their majority vote for classification and average in case of regression."
   ]
  },
  {
   "cell_type": "code",
   "execution_count": 17,
   "metadata": {},
   "outputs": [
    {
     "name": "stdout",
     "output_type": "stream",
     "text": [
      "### METRICS ###\n"
     ]
    },
    {
     "data": {
      "text/plain": [
       "{'model': 'rf',\n",
       " 'vectorizer': 'cvec',\n",
       " 'cross_val_score': 0.9507849167299544,\n",
       " 'train': 1.0,\n",
       " 'test': 0.949025069637883,\n",
       " 'roc': 0.9491734707213773,\n",
       " 'precision': 0.9390243902439024,\n",
       " 'recall': 0.958687040181098,\n",
       " 'f1_score': 0.9487538504620555}"
      ]
     },
     "metadata": {},
     "output_type": "display_data"
    },
    {
     "name": "stdout",
     "output_type": "stream",
     "text": [
      "True Negatives: 1713\n",
      "False Positives: 110\n",
      "False Negatives: 73\n",
      "True Positives: 1694\n"
     ]
    }
   ],
   "source": [
    "# Random Forest Classifier with CountVectorizer (with default hyperparameters)\n",
    "cvec_rf = run_model('cvec', 'rf')"
   ]
  },
  {
   "cell_type": "code",
   "execution_count": 18,
   "metadata": {},
   "outputs": [
    {
     "name": "stdout",
     "output_type": "stream",
     "text": [
      "### METRICS ###\n"
     ]
    },
    {
     "data": {
      "text/plain": [
       "{'model': 'rf',\n",
       " 'vectorizer': 'tvec',\n",
       " 'cross_val_score': 0.9504133853089188,\n",
       " 'train': 1.0,\n",
       " 'test': 0.9465181058495822,\n",
       " 'roc': 0.9466007045110876,\n",
       " 'precision': 0.9401900503074343,\n",
       " 'recall': 0.9518958687040181,\n",
       " 'f1_score': 0.9460067491563554}"
      ]
     },
     "metadata": {},
     "output_type": "display_data"
    },
    {
     "name": "stdout",
     "output_type": "stream",
     "text": [
      "True Negatives: 1716\n",
      "False Positives: 107\n",
      "False Negatives: 85\n",
      "True Positives: 1682\n"
     ]
    }
   ],
   "source": [
    "# Random Forest Classifier with TfidfVectorizer (with default hyperparameters)\n",
    "tvec_rf = run_model('tvec', 'rf')"
   ]
  },
  {
   "cell_type": "markdown",
   "metadata": {},
   "source": [
    "### 5.5.Evaluation of Models (with default hyperparameters)"
   ]
  },
  {
   "cell_type": "code",
   "execution_count": 19,
   "metadata": {},
   "outputs": [],
   "source": [
    "# Create a dataframe to store evaluation scores\n",
    "eval_df = pd.DataFrame(eval_list)"
   ]
  },
  {
   "cell_type": "code",
   "execution_count": 20,
   "metadata": {},
   "outputs": [],
   "source": [
    "# Create a new column to reflect ('train > test') scores\n",
    "# Positive ('train > test') scores = Overfitting\n",
    "# Negative ('train > test') scores = Underfitting \n",
    "eval_df['train > test'] = eval_df['train'] - eval_df['test'] "
   ]
  },
  {
   "cell_type": "code",
   "execution_count": 21,
   "metadata": {},
   "outputs": [
    {
     "data": {
      "text/html": [
       "<div>\n",
       "<style scoped>\n",
       "    .dataframe tbody tr th:only-of-type {\n",
       "        vertical-align: middle;\n",
       "    }\n",
       "\n",
       "    .dataframe tbody tr th {\n",
       "        vertical-align: top;\n",
       "    }\n",
       "\n",
       "    .dataframe thead th {\n",
       "        text-align: right;\n",
       "    }\n",
       "</style>\n",
       "<table border=\"1\" class=\"dataframe\">\n",
       "  <thead>\n",
       "    <tr style=\"text-align: right;\">\n",
       "      <th></th>\n",
       "      <th>model</th>\n",
       "      <th>vectorizer</th>\n",
       "      <th>cross_val_score</th>\n",
       "      <th>train</th>\n",
       "      <th>test</th>\n",
       "      <th>roc</th>\n",
       "      <th>precision</th>\n",
       "      <th>recall</th>\n",
       "      <th>f1_score</th>\n",
       "      <th>train &gt; test</th>\n",
       "    </tr>\n",
       "  </thead>\n",
       "  <tbody>\n",
       "    <tr>\n",
       "      <th>0</th>\n",
       "      <td>lr</td>\n",
       "      <td>tvec</td>\n",
       "      <td>0.954499</td>\n",
       "      <td>0.980128</td>\n",
       "      <td>0.949582</td>\n",
       "      <td>0.949635</td>\n",
       "      <td>0.945006</td>\n",
       "      <td>0.953028</td>\n",
       "      <td>0.949000</td>\n",
       "      <td>0.030546</td>\n",
       "    </tr>\n",
       "    <tr>\n",
       "      <th>1</th>\n",
       "      <td>rf</td>\n",
       "      <td>cvec</td>\n",
       "      <td>0.950785</td>\n",
       "      <td>1.000000</td>\n",
       "      <td>0.949025</td>\n",
       "      <td>0.949173</td>\n",
       "      <td>0.939024</td>\n",
       "      <td>0.958687</td>\n",
       "      <td>0.948754</td>\n",
       "      <td>0.050975</td>\n",
       "    </tr>\n",
       "    <tr>\n",
       "      <th>2</th>\n",
       "      <td>rf</td>\n",
       "      <td>tvec</td>\n",
       "      <td>0.950413</td>\n",
       "      <td>1.000000</td>\n",
       "      <td>0.946518</td>\n",
       "      <td>0.946601</td>\n",
       "      <td>0.940190</td>\n",
       "      <td>0.951896</td>\n",
       "      <td>0.946007</td>\n",
       "      <td>0.053482</td>\n",
       "    </tr>\n",
       "    <tr>\n",
       "      <th>3</th>\n",
       "      <td>lr</td>\n",
       "      <td>cvec</td>\n",
       "      <td>0.949020</td>\n",
       "      <td>0.997029</td>\n",
       "      <td>0.941783</td>\n",
       "      <td>0.941895</td>\n",
       "      <td>0.933742</td>\n",
       "      <td>0.949066</td>\n",
       "      <td>0.941342</td>\n",
       "      <td>0.055246</td>\n",
       "    </tr>\n",
       "    <tr>\n",
       "      <th>4</th>\n",
       "      <td>mnb</td>\n",
       "      <td>cvec</td>\n",
       "      <td>0.934906</td>\n",
       "      <td>0.961278</td>\n",
       "      <td>0.930362</td>\n",
       "      <td>0.930858</td>\n",
       "      <td>0.902387</td>\n",
       "      <td>0.962649</td>\n",
       "      <td>0.931544</td>\n",
       "      <td>0.030916</td>\n",
       "    </tr>\n",
       "    <tr>\n",
       "      <th>5</th>\n",
       "      <td>mnb</td>\n",
       "      <td>tvec</td>\n",
       "      <td>0.935927</td>\n",
       "      <td>0.966942</td>\n",
       "      <td>0.925348</td>\n",
       "      <td>0.925547</td>\n",
       "      <td>0.912493</td>\n",
       "      <td>0.938314</td>\n",
       "      <td>0.925223</td>\n",
       "      <td>0.041594</td>\n",
       "    </tr>\n",
       "  </tbody>\n",
       "</table>\n",
       "</div>"
      ],
      "text/plain": [
       "  model vectorizer  cross_val_score     train      test       roc  precision  \\\n",
       "0    lr       tvec         0.954499  0.980128  0.949582  0.949635   0.945006   \n",
       "1    rf       cvec         0.950785  1.000000  0.949025  0.949173   0.939024   \n",
       "2    rf       tvec         0.950413  1.000000  0.946518  0.946601   0.940190   \n",
       "3    lr       cvec         0.949020  0.997029  0.941783  0.941895   0.933742   \n",
       "4   mnb       cvec         0.934906  0.961278  0.930362  0.930858   0.902387   \n",
       "5   mnb       tvec         0.935927  0.966942  0.925348  0.925547   0.912493   \n",
       "\n",
       "     recall  f1_score  train > test  \n",
       "0  0.953028  0.949000      0.030546  \n",
       "1  0.958687  0.948754      0.050975  \n",
       "2  0.951896  0.946007      0.053482  \n",
       "3  0.949066  0.941342      0.055246  \n",
       "4  0.962649  0.931544      0.030916  \n",
       "5  0.938314  0.925223      0.041594  "
      ]
     },
     "execution_count": 21,
     "metadata": {},
     "output_type": "execute_result"
    }
   ],
   "source": [
    "# Evaluation scores of the models ranked by 'test' scores\n",
    "eval_df.sort_values(by='test', ascending = False).reset_index(drop=True)"
   ]
  },
  {
   "cell_type": "markdown",
   "metadata": {},
   "source": [
    "#### Cross Validation Score ('cross_val_score') ####\n",
    "\n",
    "The cross validation score ('cross_val_score') estimates the expected accuracy of the model on the train data. **Logistic Regression with TF-IDF Vectorizer**, outperformed the rest of the models with the highest 'cross_val_score' of 0.954499. All models are able to explain approximately up to about 93% of the fitted data."
   ]
  },
  {
   "cell_type": "markdown",
   "metadata": {},
   "source": [
    "#### Accuracy Score ('train' and 'test') ####\n",
    "\n",
    "While **Logistic Regression with TF-IDF Vectorizer** had the highest accuracy score of 0.949582 on the unseen data ('test'), the model is slightly overfitting to the data because its 'train' score is higher than the 'test' score (variance of 0.030546). \n",
    "\n",
    "It can also be noted that the **Random Forest Classifiers** are overfitting the train data since the 'train' scores are 1. There is definitely room for model optimisation using hyperparameter tuning later. \n",
    "\n",
    "While **Multinomial Naive Bayes Classifiers** performed the worst out of all the models, the 'test' scores are still quite high at 0.930362 and 0.925348 respectively, with lesser overfitting than Random Forest Classifiers.\n",
    "\n",
    "The other secondary metrics (like ROC, Precision, Recall, F1) also appeared robust across all the models (> 0.9).\n"
   ]
  },
  {
   "cell_type": "markdown",
   "metadata": {},
   "source": [
    "### 5.6.Parameters"
   ]
  },
  {
   "cell_type": "markdown",
   "metadata": {},
   "source": [
    "Next, we will prepare the vectorizer and model parameters for tuning using Grid Search."
   ]
  },
  {
   "cell_type": "code",
   "execution_count": 22,
   "metadata": {},
   "outputs": [],
   "source": [
    "# Instantiate list to store tuning results\n",
    "tuning_list = []"
   ]
  },
  {
   "cell_type": "markdown",
   "metadata": {},
   "source": [
    "### Vectorizer Parameters"
   ]
  },
  {
   "cell_type": "code",
   "execution_count": 23,
   "metadata": {},
   "outputs": [],
   "source": [
    "# CountVectorizer Parameters\n",
    "# https://scikit-learn.org/stable/modules/generated/sklearn.feature_extraction.text.CountVectorizer.html\n",
    "\n",
    "cvec_params = {\n",
    "    # Setting a limit of n-number of features included/vocab size\n",
    "    'cvec__max_features': [None, 12000],\n",
    "\n",
    "    # Setting a minimum number of times the word/token has to appear in n-documents\n",
    "    'cvec__min_df':[2, 3, 4],\n",
    "    \n",
    "    # Setting an upper threshold/max percentage of n% of documents from corpus, default = 1.0 \n",
    "    'cvec__max_df': [0.2, 0.3, 0.4],\n",
    "    \n",
    "    # With stopwords\n",
    "    'cvec__stop_words': ['english'],\n",
    "    \n",
    "    # Testing with ngrams ((1, 1) means only unigrams, (1, 2) means unigrams & bigrams, and (2, 2) means only bigrams)\n",
    "    'cvec__ngram_range':[(1,1), (1,2)]\n",
    "}"
   ]
  },
  {
   "cell_type": "code",
   "execution_count": 24,
   "metadata": {},
   "outputs": [],
   "source": [
    "# TfidfVectorizer Parameters\n",
    "# https://scikit-learn.org/stable/modules/generated/sklearn.feature_extraction.text.TfidfVectorizer.html#sklearn.feature_extraction.text.TfidfVectorizer\n",
    "\n",
    "tvec_params = {\n",
    "    'tvec__max_features': [None, 12000],\n",
    "    'tvec__min_df':[2, 3, 4],\n",
    "    'tvec__max_df': [0.2, 0.3, 0.4],\n",
    "    'tvec__stop_words': ['english'],\n",
    "    'tvec__ngram_range':[(1,1), (1,2)]\n",
    "}"
   ]
  },
  {
   "cell_type": "markdown",
   "metadata": {},
   "source": [
    "### Model Parameters"
   ]
  },
  {
   "cell_type": "code",
   "execution_count": 25,
   "metadata": {},
   "outputs": [],
   "source": [
    "# Logistic Regression Parameters\n",
    "# https://scikit-learn.org/stable/modules/generated/sklearn.linear_model.LogisticRegression.html\n",
    "\n",
    "lr_params = {\n",
    "    # Trying different types of regularization\n",
    "    'lr__penalty':['l2','l1', 'None'],\n",
    "\n",
    "     # Inverse of regularization strength; must be a positive float. Smaller values specify stronger regularization.\n",
    "    'lr__C':[0.3, 0.5, 1]\n",
    "}"
   ]
  },
  {
   "cell_type": "code",
   "execution_count": 26,
   "metadata": {},
   "outputs": [],
   "source": [
    "# Multinomial Naive Bayes Classifier Parameters\n",
    "# https://scikit-learn.org/stable/modules/generated/sklearn.naive_bayes.MultinomialNB.html\n",
    "\n",
    "mnb_params = {\n",
    "    # Whether to learn class prior probabilities or not. If false, a uniform prior will be used.\n",
    "    'mnb__fit_prior': [True, False],\n",
    "    \n",
    "    # Additive smoothing parameter (0 for no smoothing)\n",
    "    'mnb__alpha': [0.4, 0.8]\n",
    "}"
   ]
  },
  {
   "cell_type": "code",
   "execution_count": 27,
   "metadata": {},
   "outputs": [],
   "source": [
    "# Random Forest Classifier Parameters\n",
    "# https://scikit-learn.org/stable/modules/generated/sklearn.ensemble.RandomForestClassifier.html\n",
    "# https://www.analyticsvidhya.com/blog/2015/06/tuning-random-forest-model/\n",
    "rf_params = {\n",
    "    # Min number of samples required to be at a leaf node, default = 1. Increasing this lowers overfitting risk.\n",
    "    'rf__min_samples_leaf': [1, 4, 8],\n",
    "    \n",
    "    # Number of trees in the forest, default = 100, The more trees, the less likely the algorithm is to overfit.\n",
    "    'rf__n_estimators': [50, 200]\n",
    "}"
   ]
  },
  {
   "cell_type": "markdown",
   "metadata": {},
   "source": [
    "### 5.7.Hyperparameter Tuning"
   ]
  },
  {
   "cell_type": "markdown",
   "metadata": {},
   "source": [
    "Although the metrics for the models seemed rather optimistic, we will still attempt to optimise them so as to push the limits of the models further."
   ]
  },
  {
   "cell_type": "markdown",
   "metadata": {},
   "source": [
    "### Logistic Regression (with Grid Search hyperparameters)"
   ]
  },
  {
   "cell_type": "code",
   "execution_count": 28,
   "metadata": {},
   "outputs": [
    {
     "name": "stdout",
     "output_type": "stream",
     "text": [
      "Fitting 5 folds for each of 324 candidates, totalling 1620 fits\n",
      "Fitting 5 folds for each of 324 candidates, totalling 1620 fits\n",
      "Fitting 5 folds for each of 324 candidates, totalling 1620 fits\n",
      "Fitting 5 folds for each of 324 candidates, totalling 1620 fits\n",
      "Fitting 5 folds for each of 324 candidates, totalling 1620 fits\n",
      "Fitting 5 folds for each of 324 candidates, totalling 1620 fits\n",
      "### BEST PARAMS ###\n"
     ]
    },
    {
     "data": {
      "text/plain": [
       "{'cvec__max_df': 0.3,\n",
       " 'cvec__max_features': None,\n",
       " 'cvec__min_df': 3,\n",
       " 'cvec__ngram_range': (1, 2),\n",
       " 'cvec__stop_words': 'english',\n",
       " 'lr__C': 0.3,\n",
       " 'lr__penalty': 'l2'}"
      ]
     },
     "metadata": {},
     "output_type": "display_data"
    },
    {
     "name": "stdout",
     "output_type": "stream",
     "text": [
      "### METRICS ###\n"
     ]
    },
    {
     "data": {
      "text/plain": [
       "{'model': 'lr',\n",
       " 'vectorizer': 'cvec',\n",
       " 'cross_val_score': 0.9525489039284004,\n",
       " 'train': 0.994707029436345,\n",
       " 'test': 0.9445682451253482,\n",
       " 'roc': 0.9446460230699908,\n",
       " 'precision': 0.9384787472035794,\n",
       " 'recall': 0.9496321448783248,\n",
       " 'f1_score': 0.9440225035161744}"
      ]
     },
     "metadata": {},
     "output_type": "display_data"
    },
    {
     "name": "stdout",
     "output_type": "stream",
     "text": [
      "True Negatives: 1713\n",
      "False Positives: 110\n",
      "False Negatives: 89\n",
      "True Positives: 1678\n"
     ]
    }
   ],
   "source": [
    "# Logistic Regression with CountVectorizer (with grid search hyperparameters)\n",
    "cvec_lr_gs = run_model('cvec', 'lr', vec_params=cvec_params, mod_params=lr_params, grid_search=True)"
   ]
  },
  {
   "cell_type": "code",
   "execution_count": 29,
   "metadata": {},
   "outputs": [
    {
     "name": "stdout",
     "output_type": "stream",
     "text": [
      "Fitting 5 folds for each of 324 candidates, totalling 1620 fits\n",
      "Fitting 5 folds for each of 324 candidates, totalling 1620 fits\n",
      "Fitting 5 folds for each of 324 candidates, totalling 1620 fits\n",
      "Fitting 5 folds for each of 324 candidates, totalling 1620 fits\n",
      "Fitting 5 folds for each of 324 candidates, totalling 1620 fits\n",
      "Fitting 5 folds for each of 324 candidates, totalling 1620 fits\n",
      "### BEST PARAMS ###\n"
     ]
    },
    {
     "data": {
      "text/plain": [
       "{'lr__C': 1,\n",
       " 'lr__penalty': 'l2',\n",
       " 'tvec__max_df': 0.3,\n",
       " 'tvec__max_features': None,\n",
       " 'tvec__min_df': 3,\n",
       " 'tvec__ngram_range': (1, 1),\n",
       " 'tvec__stop_words': 'english'}"
      ]
     },
     "metadata": {},
     "output_type": "display_data"
    },
    {
     "name": "stdout",
     "output_type": "stream",
     "text": [
      "### METRICS ###\n"
     ]
    },
    {
     "data": {
      "text/plain": [
       "{'model': 'lr',\n",
       " 'vectorizer': 'tvec',\n",
       " 'cross_val_score': 0.9561708932408882,\n",
       " 'train': 0.9781781038165104,\n",
       " 'test': 0.9484679665738162,\n",
       " 'roc': 0.948520616743671,\n",
       " 'precision': 0.9438832772166106,\n",
       " 'recall': 0.9518958687040181,\n",
       " 'f1_score': 0.9478726401803326}"
      ]
     },
     "metadata": {},
     "output_type": "display_data"
    },
    {
     "name": "stdout",
     "output_type": "stream",
     "text": [
      "True Negatives: 1723\n",
      "False Positives: 100\n",
      "False Negatives: 85\n",
      "True Positives: 1682\n"
     ]
    }
   ],
   "source": [
    "# Logistic Regression with TfidfVectorizer (with grid search hyperparameters)\n",
    "tvec_lr_gs = run_model('tvec', 'lr', vec_params=tvec_params, mod_params=lr_params, grid_search=True)"
   ]
  },
  {
   "cell_type": "markdown",
   "metadata": {},
   "source": [
    "### Multinomial Naive Bayes Classifier (with Grid Search hyperparameters)"
   ]
  },
  {
   "cell_type": "code",
   "execution_count": 30,
   "metadata": {},
   "outputs": [
    {
     "name": "stdout",
     "output_type": "stream",
     "text": [
      "Fitting 5 folds for each of 144 candidates, totalling 720 fits\n",
      "Fitting 5 folds for each of 144 candidates, totalling 720 fits\n",
      "Fitting 5 folds for each of 144 candidates, totalling 720 fits\n",
      "Fitting 5 folds for each of 144 candidates, totalling 720 fits\n",
      "Fitting 5 folds for each of 144 candidates, totalling 720 fits\n",
      "Fitting 5 folds for each of 144 candidates, totalling 720 fits\n",
      "### BEST PARAMS ###\n"
     ]
    },
    {
     "data": {
      "text/plain": [
       "{'cvec__max_df': 0.3,\n",
       " 'cvec__max_features': None,\n",
       " 'cvec__min_df': 4,\n",
       " 'cvec__ngram_range': (1, 2),\n",
       " 'cvec__stop_words': 'english',\n",
       " 'mnb__alpha': 0.8,\n",
       " 'mnb__fit_prior': True}"
      ]
     },
     "metadata": {},
     "output_type": "display_data"
    },
    {
     "name": "stdout",
     "output_type": "stream",
     "text": [
      "### METRICS ###\n"
     ]
    },
    {
     "data": {
      "text/plain": [
       "{'model': 'mnb',\n",
       " 'vectorizer': 'cvec',\n",
       " 'cross_val_score': 0.9446563948902462,\n",
       " 'train': 0.9644349521775467,\n",
       " 'test': 0.9328690807799442,\n",
       " 'roc': 0.9331265496744887,\n",
       " 'precision': 0.9169398907103825,\n",
       " 'recall': 0.9496321448783248,\n",
       " 'f1_score': 0.9329997219905477}"
      ]
     },
     "metadata": {},
     "output_type": "display_data"
    },
    {
     "name": "stdout",
     "output_type": "stream",
     "text": [
      "True Negatives: 1671\n",
      "False Positives: 152\n",
      "False Negatives: 89\n",
      "True Positives: 1678\n"
     ]
    }
   ],
   "source": [
    "# Multinomial Naive Bayes  Classifier with CountVectorizer (with grid search hyperparameters)\n",
    "cvec_mnb_gs = run_model('cvec', 'mnb', vec_params=cvec_params, mod_params=mnb_params, grid_search=True)"
   ]
  },
  {
   "cell_type": "code",
   "execution_count": 31,
   "metadata": {},
   "outputs": [
    {
     "name": "stdout",
     "output_type": "stream",
     "text": [
      "Fitting 5 folds for each of 144 candidates, totalling 720 fits\n",
      "Fitting 5 folds for each of 144 candidates, totalling 720 fits\n",
      "Fitting 5 folds for each of 144 candidates, totalling 720 fits\n",
      "Fitting 5 folds for each of 144 candidates, totalling 720 fits\n",
      "Fitting 5 folds for each of 144 candidates, totalling 720 fits\n",
      "Fitting 5 folds for each of 144 candidates, totalling 720 fits\n",
      "### BEST PARAMS ###\n"
     ]
    },
    {
     "data": {
      "text/plain": [
       "{'mnb__alpha': 0.8,\n",
       " 'mnb__fit_prior': True,\n",
       " 'tvec__max_df': 0.3,\n",
       " 'tvec__max_features': None,\n",
       " 'tvec__min_df': 2,\n",
       " 'tvec__ngram_range': (1, 2),\n",
       " 'tvec__stop_words': 'english'}"
      ]
     },
     "metadata": {},
     "output_type": "display_data"
    },
    {
     "name": "stdout",
     "output_type": "stream",
     "text": [
      "### METRICS ###\n"
     ]
    },
    {
     "data": {
      "text/plain": [
       "{'model': 'mnb',\n",
       " 'vectorizer': 'tvec',\n",
       " 'cross_val_score': 0.9460489800459809,\n",
       " 'train': 0.9845853839725137,\n",
       " 'test': 0.9373259052924791,\n",
       " 'roc': 0.9374366897726685,\n",
       " 'precision': 0.9292873051224945,\n",
       " 'recall': 0.944538766270515,\n",
       " 'f1_score': 0.9368509682851529}"
      ]
     },
     "metadata": {},
     "output_type": "display_data"
    },
    {
     "name": "stdout",
     "output_type": "stream",
     "text": [
      "True Negatives: 1696\n",
      "False Positives: 127\n",
      "False Negatives: 98\n",
      "True Positives: 1669\n"
     ]
    }
   ],
   "source": [
    "# Multinomial Naive Bayes  Classifier with TfidfVectorizer (with grid search hyperparameters)\n",
    "tvec_mnb_gs = run_model('tvec', 'mnb', vec_params=tvec_params, mod_params=mnb_params, grid_search=True)"
   ]
  },
  {
   "cell_type": "markdown",
   "metadata": {},
   "source": [
    "### Random Forest Classifier (with Grid Search hyperparameters)"
   ]
  },
  {
   "cell_type": "code",
   "execution_count": 32,
   "metadata": {},
   "outputs": [
    {
     "name": "stdout",
     "output_type": "stream",
     "text": [
      "Fitting 5 folds for each of 216 candidates, totalling 1080 fits\n",
      "Fitting 5 folds for each of 216 candidates, totalling 1080 fits\n",
      "Fitting 5 folds for each of 216 candidates, totalling 1080 fits\n",
      "Fitting 5 folds for each of 216 candidates, totalling 1080 fits\n",
      "Fitting 5 folds for each of 216 candidates, totalling 1080 fits\n",
      "Fitting 5 folds for each of 216 candidates, totalling 1080 fits\n",
      "### BEST PARAMS ###\n"
     ]
    },
    {
     "data": {
      "text/plain": [
       "{'cvec__max_df': 0.3,\n",
       " 'cvec__max_features': None,\n",
       " 'cvec__min_df': 2,\n",
       " 'cvec__ngram_range': (1, 2),\n",
       " 'cvec__stop_words': 'english',\n",
       " 'rf__min_samples_leaf': 1,\n",
       " 'rf__n_estimators': 200}"
      ]
     },
     "metadata": {},
     "output_type": "display_data"
    },
    {
     "name": "stdout",
     "output_type": "stream",
     "text": [
      "### METRICS ###\n"
     ]
    },
    {
     "data": {
      "text/plain": [
       "{'model': 'rf',\n",
       " 'vectorizer': 'cvec',\n",
       " 'cross_val_score': 0.9516205713260545,\n",
       " 'train': 0.9999071408673043,\n",
       " 'test': 0.949025069637883,\n",
       " 'roc': 0.9492777783469166,\n",
       " 'precision': 0.9332603938730853,\n",
       " 'recall': 0.9654782116581777,\n",
       " 'f1_score': 0.9490959666203059}"
      ]
     },
     "metadata": {},
     "output_type": "display_data"
    },
    {
     "name": "stdout",
     "output_type": "stream",
     "text": [
      "True Negatives: 1701\n",
      "False Positives: 122\n",
      "False Negatives: 61\n",
      "True Positives: 1706\n"
     ]
    }
   ],
   "source": [
    "# Random Forest Classifier with CountVectorizer (with grid search hyperparameters)\n",
    "cvec_rf_gs = run_model('cvec', 'rf', vec_params=cvec_params, mod_params=rf_params, grid_search=True)"
   ]
  },
  {
   "cell_type": "code",
   "execution_count": 33,
   "metadata": {},
   "outputs": [
    {
     "name": "stdout",
     "output_type": "stream",
     "text": [
      "Fitting 5 folds for each of 216 candidates, totalling 1080 fits\n",
      "Fitting 5 folds for each of 216 candidates, totalling 1080 fits\n",
      "Fitting 5 folds for each of 216 candidates, totalling 1080 fits\n",
      "Fitting 5 folds for each of 216 candidates, totalling 1080 fits\n",
      "Fitting 5 folds for each of 216 candidates, totalling 1080 fits\n",
      "Fitting 5 folds for each of 216 candidates, totalling 1080 fits\n",
      "### BEST PARAMS ###\n"
     ]
    },
    {
     "data": {
      "text/plain": [
       "{'rf__min_samples_leaf': 1,\n",
       " 'rf__n_estimators': 200,\n",
       " 'tvec__max_df': 0.3,\n",
       " 'tvec__max_features': None,\n",
       " 'tvec__min_df': 3,\n",
       " 'tvec__ngram_range': (1, 2),\n",
       " 'tvec__stop_words': 'english'}"
      ]
     },
     "metadata": {},
     "output_type": "display_data"
    },
    {
     "name": "stdout",
     "output_type": "stream",
     "text": [
      "### METRICS ###\n"
     ]
    },
    {
     "data": {
      "text/plain": [
       "{'model': 'rf',\n",
       " 'vectorizer': 'tvec',\n",
       " 'cross_val_score': 0.9530132858601135,\n",
       " 'train': 0.9999071408673043,\n",
       " 'test': 0.9479108635097493,\n",
       " 'roc': 0.9481372241319417,\n",
       " 'precision': 0.933589462129528,\n",
       " 'recall': 0.9626485568760611,\n",
       " 'f1_score': 0.9478963499582057}"
      ]
     },
     "metadata": {},
     "output_type": "display_data"
    },
    {
     "name": "stdout",
     "output_type": "stream",
     "text": [
      "True Negatives: 1702\n",
      "False Positives: 121\n",
      "False Negatives: 66\n",
      "True Positives: 1701\n"
     ]
    }
   ],
   "source": [
    "# Random Forest Classifier with TfidfVectorizer (with grid search hyperparameters)\n",
    "tvec_rf_gs = run_model('tvec', 'rf', vec_params=tvec_params, mod_params=rf_params, grid_search=True)"
   ]
  },
  {
   "cell_type": "markdown",
   "metadata": {},
   "source": [
    "### 5.8.Evaluation of Models (with Grid Search hyperparameters)"
   ]
  },
  {
   "cell_type": "code",
   "execution_count": 34,
   "metadata": {},
   "outputs": [],
   "source": [
    "# Create a dataframe to store evaluation scores with tuning\n",
    "tuning_df = pd.DataFrame(tuning_list)"
   ]
  },
  {
   "cell_type": "code",
   "execution_count": 35,
   "metadata": {},
   "outputs": [],
   "source": [
    "# Create a new column to reflect ('train > test') scores\n",
    "# Positive ('train > test') scores = Overfitting\n",
    "# Negative ('train > test') scores = Underfitting \n",
    "tuning_df['train > test'] = tuning_df['train'] - tuning_df['test'] "
   ]
  },
  {
   "cell_type": "code",
   "execution_count": 36,
   "metadata": {},
   "outputs": [
    {
     "data": {
      "text/html": [
       "<div>\n",
       "<style scoped>\n",
       "    .dataframe tbody tr th:only-of-type {\n",
       "        vertical-align: middle;\n",
       "    }\n",
       "\n",
       "    .dataframe tbody tr th {\n",
       "        vertical-align: top;\n",
       "    }\n",
       "\n",
       "    .dataframe thead th {\n",
       "        text-align: right;\n",
       "    }\n",
       "</style>\n",
       "<table border=\"1\" class=\"dataframe\">\n",
       "  <thead>\n",
       "    <tr style=\"text-align: right;\">\n",
       "      <th></th>\n",
       "      <th>model</th>\n",
       "      <th>vectorizer</th>\n",
       "      <th>cross_val_score</th>\n",
       "      <th>train</th>\n",
       "      <th>test</th>\n",
       "      <th>roc</th>\n",
       "      <th>precision</th>\n",
       "      <th>recall</th>\n",
       "      <th>f1_score</th>\n",
       "      <th>train &gt; test</th>\n",
       "    </tr>\n",
       "  </thead>\n",
       "  <tbody>\n",
       "    <tr>\n",
       "      <th>0</th>\n",
       "      <td>rf</td>\n",
       "      <td>cvec</td>\n",
       "      <td>0.951621</td>\n",
       "      <td>0.999907</td>\n",
       "      <td>0.949025</td>\n",
       "      <td>0.949278</td>\n",
       "      <td>0.933260</td>\n",
       "      <td>0.965478</td>\n",
       "      <td>0.949096</td>\n",
       "      <td>0.050882</td>\n",
       "    </tr>\n",
       "    <tr>\n",
       "      <th>1</th>\n",
       "      <td>lr</td>\n",
       "      <td>tvec</td>\n",
       "      <td>0.956171</td>\n",
       "      <td>0.978178</td>\n",
       "      <td>0.948468</td>\n",
       "      <td>0.948521</td>\n",
       "      <td>0.943883</td>\n",
       "      <td>0.951896</td>\n",
       "      <td>0.947873</td>\n",
       "      <td>0.029710</td>\n",
       "    </tr>\n",
       "    <tr>\n",
       "      <th>2</th>\n",
       "      <td>rf</td>\n",
       "      <td>tvec</td>\n",
       "      <td>0.953013</td>\n",
       "      <td>0.999907</td>\n",
       "      <td>0.947911</td>\n",
       "      <td>0.948137</td>\n",
       "      <td>0.933589</td>\n",
       "      <td>0.962649</td>\n",
       "      <td>0.947896</td>\n",
       "      <td>0.051996</td>\n",
       "    </tr>\n",
       "    <tr>\n",
       "      <th>3</th>\n",
       "      <td>lr</td>\n",
       "      <td>cvec</td>\n",
       "      <td>0.952549</td>\n",
       "      <td>0.994707</td>\n",
       "      <td>0.944568</td>\n",
       "      <td>0.944646</td>\n",
       "      <td>0.938479</td>\n",
       "      <td>0.949632</td>\n",
       "      <td>0.944023</td>\n",
       "      <td>0.050139</td>\n",
       "    </tr>\n",
       "    <tr>\n",
       "      <th>4</th>\n",
       "      <td>mnb</td>\n",
       "      <td>tvec</td>\n",
       "      <td>0.946049</td>\n",
       "      <td>0.984585</td>\n",
       "      <td>0.937326</td>\n",
       "      <td>0.937437</td>\n",
       "      <td>0.929287</td>\n",
       "      <td>0.944539</td>\n",
       "      <td>0.936851</td>\n",
       "      <td>0.047259</td>\n",
       "    </tr>\n",
       "    <tr>\n",
       "      <th>5</th>\n",
       "      <td>mnb</td>\n",
       "      <td>cvec</td>\n",
       "      <td>0.944656</td>\n",
       "      <td>0.964435</td>\n",
       "      <td>0.932869</td>\n",
       "      <td>0.933127</td>\n",
       "      <td>0.916940</td>\n",
       "      <td>0.949632</td>\n",
       "      <td>0.933000</td>\n",
       "      <td>0.031566</td>\n",
       "    </tr>\n",
       "  </tbody>\n",
       "</table>\n",
       "</div>"
      ],
      "text/plain": [
       "  model vectorizer  cross_val_score     train      test       roc  precision  \\\n",
       "0    rf       cvec         0.951621  0.999907  0.949025  0.949278   0.933260   \n",
       "1    lr       tvec         0.956171  0.978178  0.948468  0.948521   0.943883   \n",
       "2    rf       tvec         0.953013  0.999907  0.947911  0.948137   0.933589   \n",
       "3    lr       cvec         0.952549  0.994707  0.944568  0.944646   0.938479   \n",
       "4   mnb       tvec         0.946049  0.984585  0.937326  0.937437   0.929287   \n",
       "5   mnb       cvec         0.944656  0.964435  0.932869  0.933127   0.916940   \n",
       "\n",
       "     recall  f1_score  train > test  \n",
       "0  0.965478  0.949096      0.050882  \n",
       "1  0.951896  0.947873      0.029710  \n",
       "2  0.962649  0.947896      0.051996  \n",
       "3  0.949632  0.944023      0.050139  \n",
       "4  0.944539  0.936851      0.047259  \n",
       "5  0.949632  0.933000      0.031566  "
      ]
     },
     "execution_count": 36,
     "metadata": {},
     "output_type": "execute_result"
    }
   ],
   "source": [
    "# Evaluation scores of the models with tuning ranked by 'test' scores\n",
    "tuning_df.sort_values(by='test', ascending = False).reset_index(drop=True)"
   ]
  },
  {
   "cell_type": "markdown",
   "metadata": {},
   "source": [
    "#### Accuracy Score ('train' and 'test') ####\n",
    "\n",
    "Out of all the tuned models, the **Tuned-Random Forest Classifier with CounterVectorizer** had the best accuracy score of 0.949025 on the unseen data ('test'). However, the hyperparameter tuning did not significantly reduce the overfitting of the model to the data, and gap between the 'train' and 'test scores is still quite large at > 0.05. \n",
    "\n",
    "Based on our evaluation, we concluded that the **Tuned-Logistic Regression with TFIDFVectorizer** is our best model. It has the second highest accuracy score of 0.948468 on the unseen data ('test') out of all the tuned models. The difference between the 'train' and 'test' scores is also the smallest across both tuned and untuned models at 0.029710, indicating that is it able to generalize unseen data well."
   ]
  },
  {
   "cell_type": "markdown",
   "metadata": {},
   "source": [
    "### 5.9.Model Selection"
   ]
  },
  {
   "cell_type": "markdown",
   "metadata": {},
   "source": [
    "In summary, the **Logistic Regression with TF-IDF Vectorizer with hyperparameter tuning** is our selected model with the best outcome. "
   ]
  },
  {
   "cell_type": "code",
   "execution_count": 37,
   "metadata": {},
   "outputs": [
    {
     "data": {
      "text/plain": [
       "{'lr__C': 1,\n",
       " 'lr__penalty': 'l2',\n",
       " 'tvec__max_df': 0.3,\n",
       " 'tvec__max_features': None,\n",
       " 'tvec__min_df': 3,\n",
       " 'tvec__ngram_range': (1, 1),\n",
       " 'tvec__stop_words': 'english'}"
      ]
     },
     "execution_count": 37,
     "metadata": {},
     "output_type": "execute_result"
    }
   ],
   "source": [
    "# Best params\n",
    "tvec_lr_gs.best_params_"
   ]
  },
  {
   "cell_type": "code",
   "execution_count": 38,
   "metadata": {},
   "outputs": [
    {
     "data": {
      "text/plain": [
       "0.9484679665738162"
      ]
     },
     "execution_count": 38,
     "metadata": {},
     "output_type": "execute_result"
    }
   ],
   "source": [
    "# Generate accuracy score\n",
    "score = tvec_lr_gs.score(X_test, y_test)\n",
    "score"
   ]
  },
  {
   "cell_type": "markdown",
   "metadata": {},
   "source": [
    "###  Predictions"
   ]
  },
  {
   "cell_type": "markdown",
   "metadata": {},
   "source": [
    "Let us examine how the best model makes predictions."
   ]
  },
  {
   "cell_type": "code",
   "execution_count": 164,
   "metadata": {},
   "outputs": [
    {
     "data": {
      "text/plain": [
       "array([[0.195, 0.805],\n",
       "       [0.945, 0.055],\n",
       "       [0.442, 0.558],\n",
       "       ...,\n",
       "       [0.354, 0.646],\n",
       "       [0.04 , 0.96 ],\n",
       "       [0.542, 0.458]])"
      ]
     },
     "execution_count": 164,
     "metadata": {},
     "output_type": "execute_result"
    }
   ],
   "source": [
    "# Generate predicted probabilities\n",
    "prediction_proba = np.round(tvec_lr_gs.predict_proba(X_test), 3)  \n",
    "prediction_proba "
   ]
  },
  {
   "cell_type": "code",
   "execution_count": 165,
   "metadata": {},
   "outputs": [],
   "source": [
    "# Generate predictions\n",
    "predictions = tvec_lr_gs.predict(X_test)"
   ]
  },
  {
   "cell_type": "code",
   "execution_count": 166,
   "metadata": {},
   "outputs": [
    {
     "data": {
      "text/plain": [
       "array([1, 0, 0, ..., 0, 1, 1], dtype=int64)"
      ]
     },
     "execution_count": 166,
     "metadata": {},
     "output_type": "execute_result"
    }
   ],
   "source": [
    "# Generate actuals\n",
    "y_test_array = np.ravel(y_test)\n",
    "y_test_array"
   ]
  },
  {
   "cell_type": "code",
   "execution_count": 167,
   "metadata": {},
   "outputs": [],
   "source": [
    "# X_test array\n",
    "X_test_array = X_test.to_numpy()"
   ]
  },
  {
   "cell_type": "code",
   "execution_count": 168,
   "metadata": {},
   "outputs": [],
   "source": [
    "# Create a dataframe to store \n",
    "predictions_df = pd.DataFrame(prediction_proba)\n",
    "predictions_df['text'] = X_test_array \n",
    "predictions_df['predictions'] = predictions\n",
    "predictions_df['actual'] = y_test_array"
   ]
  },
  {
   "cell_type": "code",
   "execution_count": 169,
   "metadata": {},
   "outputs": [],
   "source": [
    "# Create and reorder columns\n",
    "predictions_df.columns = ['r/Apple_pred_proba', 'r/Samsung_pred_proba', 'text', 'predictions', 'actual']\n",
    "predictions_df = predictions_df[['text', 'predictions', 'actual', 'r/Samsung_pred_proba', 'r/Apple_pred_proba']]"
   ]
  },
  {
   "cell_type": "code",
   "execution_count": 170,
   "metadata": {},
   "outputs": [],
   "source": [
    "# Filter out wrong predictions\n",
    "wrong_predictions = predictions_df[predictions_df['actual']!=predictions_df['predictions']]"
   ]
  },
  {
   "cell_type": "code",
   "execution_count": 171,
   "metadata": {},
   "outputs": [
    {
     "data": {
      "text/html": [
       "<div>\n",
       "<style scoped>\n",
       "    .dataframe tbody tr th:only-of-type {\n",
       "        vertical-align: middle;\n",
       "    }\n",
       "\n",
       "    .dataframe tbody tr th {\n",
       "        vertical-align: top;\n",
       "    }\n",
       "\n",
       "    .dataframe thead th {\n",
       "        text-align: right;\n",
       "    }\n",
       "</style>\n",
       "<table border=\"1\" class=\"dataframe\">\n",
       "  <thead>\n",
       "    <tr style=\"text-align: right;\">\n",
       "      <th></th>\n",
       "      <th>text</th>\n",
       "      <th>predictions</th>\n",
       "      <th>actual</th>\n",
       "      <th>r/Samsung_pred_proba</th>\n",
       "      <th>r/Apple_pred_proba</th>\n",
       "    </tr>\n",
       "  </thead>\n",
       "  <tbody>\n",
       "    <tr>\n",
       "      <th>2902</th>\n",
       "      <td>considering whether switch samsung apple ive samsung user year typically upgrade new flagship sa...</td>\n",
       "      <td>1</td>\n",
       "      <td>0</td>\n",
       "      <td>0.990</td>\n",
       "      <td>0.010</td>\n",
       "    </tr>\n",
       "    <tr>\n",
       "      <th>3288</th>\n",
       "      <td>exsamsung user regret switch  curious making switch samsung apple note galaxy bud frontier watch...</td>\n",
       "      <td>1</td>\n",
       "      <td>0</td>\n",
       "      <td>0.927</td>\n",
       "      <td>0.073</td>\n",
       "    </tr>\n",
       "    <tr>\n",
       "      <th>2234</th>\n",
       "      <td>need advice would smart stupid upgrade samsung galaxy base iphone 128gb know screen quality woul...</td>\n",
       "      <td>1</td>\n",
       "      <td>0</td>\n",
       "      <td>0.908</td>\n",
       "      <td>0.092</td>\n",
       "    </tr>\n",
       "    <tr>\n",
       "      <th>2387</th>\n",
       "      <td>question switching samsung iphone  anyway transfer data android transfer google acc</td>\n",
       "      <td>1</td>\n",
       "      <td>0</td>\n",
       "      <td>0.900</td>\n",
       "      <td>0.100</td>\n",
       "    </tr>\n",
       "    <tr>\n",
       "      <th>1107</th>\n",
       "      <td>pixel bud capability ive using pixel bud iphone way check battery life bud case feature update a...</td>\n",
       "      <td>1</td>\n",
       "      <td>0</td>\n",
       "      <td>0.899</td>\n",
       "      <td>0.101</td>\n",
       "    </tr>\n",
       "    <tr>\n",
       "      <th>2428</th>\n",
       "      <td>lock screen colour inverted half second turning phone  phone updated recent update phone keep in...</td>\n",
       "      <td>1</td>\n",
       "      <td>0</td>\n",
       "      <td>0.841</td>\n",
       "      <td>0.159</td>\n",
       "    </tr>\n",
       "    <tr>\n",
       "      <th>2013</th>\n",
       "      <td>yeet apple big gay samsung better</td>\n",
       "      <td>1</td>\n",
       "      <td>0</td>\n",
       "      <td>0.837</td>\n",
       "      <td>0.163</td>\n",
       "    </tr>\n",
       "    <tr>\n",
       "      <th>2166</th>\n",
       "      <td>android bad like post think android bad</td>\n",
       "      <td>1</td>\n",
       "      <td>0</td>\n",
       "      <td>0.826</td>\n",
       "      <td>0.174</td>\n",
       "    </tr>\n",
       "    <tr>\n",
       "      <th>741</th>\n",
       "      <td>samsung dexfor iphone  know hook android phone monitor activate dex mode essentially turn phone ...</td>\n",
       "      <td>1</td>\n",
       "      <td>0</td>\n",
       "      <td>0.823</td>\n",
       "      <td>0.177</td>\n",
       "    </tr>\n",
       "    <tr>\n",
       "      <th>1744</th>\n",
       "      <td>issuesi noticed getting iphone hour ago android phone press pause button bluetooth headphone you...</td>\n",
       "      <td>1</td>\n",
       "      <td>0</td>\n",
       "      <td>0.811</td>\n",
       "      <td>0.189</td>\n",
       "    </tr>\n",
       "    <tr>\n",
       "      <th>2774</th>\n",
       "      <td>sort note folder alphabetically  trying use note note taking app replacement cant figure one thi...</td>\n",
       "      <td>1</td>\n",
       "      <td>0</td>\n",
       "      <td>0.807</td>\n",
       "      <td>0.193</td>\n",
       "    </tr>\n",
       "  </tbody>\n",
       "</table>\n",
       "</div>"
      ],
      "text/plain": [
       "                                                                                                     text  \\\n",
       "2902  considering whether switch samsung apple ive samsung user year typically upgrade new flagship sa...   \n",
       "3288  exsamsung user regret switch  curious making switch samsung apple note galaxy bud frontier watch...   \n",
       "2234  need advice would smart stupid upgrade samsung galaxy base iphone 128gb know screen quality woul...   \n",
       "2387                  question switching samsung iphone  anyway transfer data android transfer google acc   \n",
       "1107  pixel bud capability ive using pixel bud iphone way check battery life bud case feature update a...   \n",
       "2428  lock screen colour inverted half second turning phone  phone updated recent update phone keep in...   \n",
       "2013                                                                    yeet apple big gay samsung better   \n",
       "2166                                                             android bad like post think android bad    \n",
       "741   samsung dexfor iphone  know hook android phone monitor activate dex mode essentially turn phone ...   \n",
       "1744  issuesi noticed getting iphone hour ago android phone press pause button bluetooth headphone you...   \n",
       "2774  sort note folder alphabetically  trying use note note taking app replacement cant figure one thi...   \n",
       "\n",
       "      predictions  actual  r/Samsung_pred_proba  r/Apple_pred_proba  \n",
       "2902            1       0                 0.990               0.010  \n",
       "3288            1       0                 0.927               0.073  \n",
       "2234            1       0                 0.908               0.092  \n",
       "2387            1       0                 0.900               0.100  \n",
       "1107            1       0                 0.899               0.101  \n",
       "2428            1       0                 0.841               0.159  \n",
       "2013            1       0                 0.837               0.163  \n",
       "2166            1       0                 0.826               0.174  \n",
       "741             1       0                 0.823               0.177  \n",
       "1744            1       0                 0.811               0.189  \n",
       "2774            1       0                 0.807               0.193  "
      ]
     },
     "execution_count": 171,
     "metadata": {},
     "output_type": "execute_result"
    }
   ],
   "source": [
    "# False positives - r/Apple posts which were incorrectly predicted as r/Samsung\n",
    "wrong_predictions[(wrong_predictions['predictions'] == 1) & (wrong_predictions['r/Samsung_pred_proba'] > 0.8)].sort_values(by='r/Samsung_pred_proba', ascending =False)"
   ]
  },
  {
   "cell_type": "code",
   "execution_count": 172,
   "metadata": {},
   "outputs": [
    {
     "data": {
      "text/html": [
       "<div>\n",
       "<style scoped>\n",
       "    .dataframe tbody tr th:only-of-type {\n",
       "        vertical-align: middle;\n",
       "    }\n",
       "\n",
       "    .dataframe tbody tr th {\n",
       "        vertical-align: top;\n",
       "    }\n",
       "\n",
       "    .dataframe thead th {\n",
       "        text-align: right;\n",
       "    }\n",
       "</style>\n",
       "<table border=\"1\" class=\"dataframe\">\n",
       "  <thead>\n",
       "    <tr style=\"text-align: right;\">\n",
       "      <th></th>\n",
       "      <th>text</th>\n",
       "      <th>predictions</th>\n",
       "      <th>actual</th>\n",
       "      <th>r/Samsung_pred_proba</th>\n",
       "      <th>r/Apple_pred_proba</th>\n",
       "    </tr>\n",
       "  </thead>\n",
       "  <tbody>\n",
       "    <tr>\n",
       "      <th>1210</th>\n",
       "      <td>switching io android  apple ecosystem iphone pro ipad pro magic keyboard apple watch series airp...</td>\n",
       "      <td>0</td>\n",
       "      <td>1</td>\n",
       "      <td>0.000</td>\n",
       "      <td>1.000</td>\n",
       "    </tr>\n",
       "    <tr>\n",
       "      <th>483</th>\n",
       "      <td>enough enough goodbye iphone apple  dont know many yall like use galaxy iphone time time convinc...</td>\n",
       "      <td>0</td>\n",
       "      <td>1</td>\n",
       "      <td>0.001</td>\n",
       "      <td>0.999</td>\n",
       "    </tr>\n",
       "    <tr>\n",
       "      <th>2580</th>\n",
       "      <td>cord need connect 2019 macbook pro  purchased new macbook pro thunderbolt port cord purchase get...</td>\n",
       "      <td>0</td>\n",
       "      <td>1</td>\n",
       "      <td>0.008</td>\n",
       "      <td>0.992</td>\n",
       "    </tr>\n",
       "    <tr>\n",
       "      <th>369</th>\n",
       "      <td>frame yet see apple app</td>\n",
       "      <td>0</td>\n",
       "      <td>1</td>\n",
       "      <td>0.027</td>\n",
       "      <td>0.973</td>\n",
       "    </tr>\n",
       "    <tr>\n",
       "      <th>101</th>\n",
       "      <td>use iphone work suffering year note screen died bit bullet repair screen since beast phone next ...</td>\n",
       "      <td>0</td>\n",
       "      <td>1</td>\n",
       "      <td>0.048</td>\n",
       "      <td>0.952</td>\n",
       "    </tr>\n",
       "    <tr>\n",
       "      <th>3244</th>\n",
       "      <td>tried download youtube video grandma iphone aid people use io restricted title</td>\n",
       "      <td>0</td>\n",
       "      <td>1</td>\n",
       "      <td>0.064</td>\n",
       "      <td>0.936</td>\n",
       "    </tr>\n",
       "    <tr>\n",
       "      <th>3527</th>\n",
       "      <td>samsung itest working iphone   keep getting prompt code say need scan iphone literally using iph...</td>\n",
       "      <td>0</td>\n",
       "      <td>1</td>\n",
       "      <td>0.080</td>\n",
       "      <td>0.920</td>\n",
       "    </tr>\n",
       "    <tr>\n",
       "      <th>3237</th>\n",
       "      <td>samsung apple watch hello everyone looked reddit post found everyone pretty aggressive others re...</td>\n",
       "      <td>0</td>\n",
       "      <td>1</td>\n",
       "      <td>0.110</td>\n",
       "      <td>0.890</td>\n",
       "    </tr>\n",
       "    <tr>\n",
       "      <th>406</th>\n",
       "      <td>make advertisement le annoying annoying make bought iphone spite</td>\n",
       "      <td>0</td>\n",
       "      <td>1</td>\n",
       "      <td>0.154</td>\n",
       "      <td>0.846</td>\n",
       "    </tr>\n",
       "    <tr>\n",
       "      <th>3579</th>\n",
       "      <td>share calendar someone hello everyone long time ago created shared calendar sister event added w...</td>\n",
       "      <td>0</td>\n",
       "      <td>1</td>\n",
       "      <td>0.154</td>\n",
       "      <td>0.846</td>\n",
       "    </tr>\n",
       "    <tr>\n",
       "      <th>1225</th>\n",
       "      <td>reason chose samsung apple  people die imessage day made choose android apple feel free shsre ex...</td>\n",
       "      <td>0</td>\n",
       "      <td>1</td>\n",
       "      <td>0.165</td>\n",
       "      <td>0.835</td>\n",
       "    </tr>\n",
       "    <tr>\n",
       "      <th>1838</th>\n",
       "      <td>moved iphone s21 best way move stuff  iphone since 3gs till finally thought change android due p...</td>\n",
       "      <td>0</td>\n",
       "      <td>1</td>\n",
       "      <td>0.170</td>\n",
       "      <td>0.830</td>\n",
       "    </tr>\n",
       "    <tr>\n",
       "      <th>1325</th>\n",
       "      <td>iphone user year switched s21 plus make right decision  phone yet still shipped switching iphon...</td>\n",
       "      <td>0</td>\n",
       "      <td>1</td>\n",
       "      <td>0.186</td>\n",
       "      <td>0.814</td>\n",
       "    </tr>\n",
       "    <tr>\n",
       "      <th>152</th>\n",
       "      <td>thinking switching iphone worth  dumb question probably pretty obvious answer ask pretty serious...</td>\n",
       "      <td>0</td>\n",
       "      <td>1</td>\n",
       "      <td>0.199</td>\n",
       "      <td>0.801</td>\n",
       "    </tr>\n",
       "  </tbody>\n",
       "</table>\n",
       "</div>"
      ],
      "text/plain": [
       "                                                                                                     text  \\\n",
       "1210  switching io android  apple ecosystem iphone pro ipad pro magic keyboard apple watch series airp...   \n",
       "483   enough enough goodbye iphone apple  dont know many yall like use galaxy iphone time time convinc...   \n",
       "2580  cord need connect 2019 macbook pro  purchased new macbook pro thunderbolt port cord purchase get...   \n",
       "369                                                                              frame yet see apple app    \n",
       "101   use iphone work suffering year note screen died bit bullet repair screen since beast phone next ...   \n",
       "3244                       tried download youtube video grandma iphone aid people use io restricted title   \n",
       "3527  samsung itest working iphone   keep getting prompt code say need scan iphone literally using iph...   \n",
       "3237  samsung apple watch hello everyone looked reddit post found everyone pretty aggressive others re...   \n",
       "406                                      make advertisement le annoying annoying make bought iphone spite   \n",
       "3579  share calendar someone hello everyone long time ago created shared calendar sister event added w...   \n",
       "1225  reason chose samsung apple  people die imessage day made choose android apple feel free shsre ex...   \n",
       "1838  moved iphone s21 best way move stuff  iphone since 3gs till finally thought change android due p...   \n",
       "1325   iphone user year switched s21 plus make right decision  phone yet still shipped switching iphon...   \n",
       "152   thinking switching iphone worth  dumb question probably pretty obvious answer ask pretty serious...   \n",
       "\n",
       "      predictions  actual  r/Samsung_pred_proba  r/Apple_pred_proba  \n",
       "1210            0       1                 0.000               1.000  \n",
       "483             0       1                 0.001               0.999  \n",
       "2580            0       1                 0.008               0.992  \n",
       "369             0       1                 0.027               0.973  \n",
       "101             0       1                 0.048               0.952  \n",
       "3244            0       1                 0.064               0.936  \n",
       "3527            0       1                 0.080               0.920  \n",
       "3237            0       1                 0.110               0.890  \n",
       "406             0       1                 0.154               0.846  \n",
       "3579            0       1                 0.154               0.846  \n",
       "1225            0       1                 0.165               0.835  \n",
       "1838            0       1                 0.170               0.830  \n",
       "1325            0       1                 0.186               0.814  \n",
       "152             0       1                 0.199               0.801  "
      ]
     },
     "execution_count": 172,
     "metadata": {},
     "output_type": "execute_result"
    }
   ],
   "source": [
    "# False negatives -  r/Samsung posts which were incorrectly predicted as r/Apple\n",
    "wrong_predictions[(wrong_predictions['predictions'] == 0) & (wrong_predictions['r/Apple_pred_proba'] > 0.8)].sort_values(by='r/Apple_pred_proba', ascending =False)"
   ]
  },
  {
   "cell_type": "markdown",
   "metadata": {},
   "source": [
    "Based on the false positives (r/Apple posts which were incorrectly predicted as r/Samsung) and false negatives (r/Samsung posts which were incorrectly predicted as r/Apple), it appears that most of the wrongly classified posts are related to users who have the intention to switch brand loyalty. "
   ]
  },
  {
   "cell_type": "markdown",
   "metadata": {},
   "source": [
    "###  Confusion Matrix"
   ]
  },
  {
   "cell_type": "code",
   "execution_count": 173,
   "metadata": {},
   "outputs": [],
   "source": [
    "# Label confusion matrix\n",
    "# Reference : lesson codes 4.04\n",
    "\n",
    "cm = confusion_matrix(y_test, predictions)    # both are in arrays\n",
    "modified_cm = []\n",
    "for index,value in enumerate(cm):\n",
    "    if index == 0:\n",
    "        modified_cm.append(['TN = ' + str(value[0]), 'FP = ' + str(value[1])])\n",
    "    if index == 1:\n",
    "        modified_cm.append(['FN = ' + str(value[0]), 'TP = ' + str(value[1])]) "
   ]
  },
  {
   "cell_type": "code",
   "execution_count": 174,
   "metadata": {},
   "outputs": [
    {
     "data": {
      "image/png": "[encoded data removed]",
      "text/plain": [
       "<Figure size 648x648 with 2 Axes>"
      ]
     },
     "metadata": {
      "needs_background": "light"
     },
     "output_type": "display_data"
    }
   ],
   "source": [
    "# Plot confusion matrix has been imported\n",
    "plt.figure(figsize=(9,9))\n",
    "sns.heatmap(cm, annot=np.array(modified_cm),\n",
    "            fmt=\"\",\n",
    "            annot_kws={\"size\": 20},\n",
    "            linewidths=.5,\n",
    "            square = True,\n",
    "            cmap = 'Blues',\n",
    "            xticklabels = ['r/Apple', 'r/Samsung'],\n",
    "            yticklabels = ['r/Apple', 'r/Samsung'],\n",
    "            );\n",
    "\n",
    "plt.ylabel('Actual label', fontsize = 17);\n",
    "plt.xlabel('Predicted label', fontsize = 17);\n",
    "plt.title('Accuracy Score: {:.3f}'.format(score), size = 17);\n",
    "plt.tick_params(labelsize= 15)\n",
    "\n",
    "# Save plot\n",
    "plt.savefig('../plots/confusion_matrix.png', dpi=150, bbox_inches='tight')"
   ]
  },
  {
   "cell_type": "markdown",
   "metadata": {},
   "source": [
    "**True Positive** : r/Samsung posts which were correctly predicted. \n",
    "\n",
    "**True Negative** : r/Apple posts which were correctly predicted. \n",
    "\n",
    "**False Positive** : r/Apple posts which were incorrectly predicted. \n",
    "\n",
    "**False Negative** : r/Samsung posts which were incorrectly predicted. "
   ]
  },
  {
   "cell_type": "markdown",
   "metadata": {},
   "source": [
    "###  Coefficients"
   ]
  },
  {
   "cell_type": "code",
   "execution_count": 175,
   "metadata": {},
   "outputs": [
    {
     "data": {
      "text/plain": [
       "[('tvec', TfidfVectorizer(max_df=0.3, min_df=3, stop_words='english')),\n",
       " ('lr', LogisticRegression(C=1, max_iter=1000, random_state=42))]"
      ]
     },
     "execution_count": 175,
     "metadata": {},
     "output_type": "execute_result"
    }
   ],
   "source": [
    "# Check each step of the pipeline in our best model\n",
    "# source: https://stackoverflow.com/questions/43856280/return-coefficients-from-pipeline-object-in-sklearn\n",
    "tvec_lr_gs.best_estimator_.steps"
   ]
  },
  {
   "cell_type": "code",
   "execution_count": 176,
   "metadata": {},
   "outputs": [
    {
     "data": {
      "text/plain": [
       "LogisticRegression(C=1, max_iter=1000, random_state=42)"
      ]
     },
     "execution_count": 176,
     "metadata": {},
     "output_type": "execute_result"
    }
   ],
   "source": [
    "# Best model\n",
    "best_mod = tvec_lr_gs.best_estimator_.steps[1][1]\n",
    "best_mod"
   ]
  },
  {
   "cell_type": "code",
   "execution_count": 177,
   "metadata": {},
   "outputs": [],
   "source": [
    "# Store coefficients of model in a dataframe and rename columns as 'coef'\n",
    "coefs = pd.DataFrame(best_mod.coef_).transpose()\n",
    "coefs.columns = ['coef']\n",
    "coefs['exp_coef'] = np.exp(coefs['coef'])"
   ]
  },
  {
   "cell_type": "code",
   "execution_count": 178,
   "metadata": {},
   "outputs": [
    {
     "data": {
      "text/plain": [
       "TfidfVectorizer(max_df=0.3, min_df=3, stop_words='english')"
      ]
     },
     "execution_count": 178,
     "metadata": {},
     "output_type": "execute_result"
    }
   ],
   "source": [
    "# Best vectorizer\n",
    "best_vec = tvec_lr_gs.best_estimator_.steps[0][1]\n",
    "best_vec"
   ]
  },
  {
   "cell_type": "code",
   "execution_count": 179,
   "metadata": {},
   "outputs": [],
   "source": [
    "# Array mapping from feature integer indices to feature name\n",
    "coefs['ngram'] = best_vec.get_feature_names()"
   ]
  },
  {
   "cell_type": "markdown",
   "metadata": {},
   "source": [
    "As a recap from Part 2, we have set up the binary classes: 1 = r/Samsung 0 = r/Apple.\n",
    "\n",
    "From the analysis of the coefficients of the model, the n-grams or words with the highest positive coefficients are those that have strongest predictive power with respect to r/Samsung. On the other hand, the n-grams or words with the highest negative coefficients are those that have strongest predictive power with respect to r/Apple. "
   ]
  },
  {
   "cell_type": "code",
   "execution_count": 180,
   "metadata": {
    "scrolled": true
   },
   "outputs": [
    {
     "data": {
      "text/html": [
       "<div>\n",
       "<style scoped>\n",
       "    .dataframe tbody tr th:only-of-type {\n",
       "        vertical-align: middle;\n",
       "    }\n",
       "\n",
       "    .dataframe tbody tr th {\n",
       "        vertical-align: top;\n",
       "    }\n",
       "\n",
       "    .dataframe thead th {\n",
       "        text-align: right;\n",
       "    }\n",
       "</style>\n",
       "<table border=\"1\" class=\"dataframe\">\n",
       "  <thead>\n",
       "    <tr style=\"text-align: right;\">\n",
       "      <th></th>\n",
       "      <th>coef</th>\n",
       "      <th>exp_coef</th>\n",
       "      <th>ngram</th>\n",
       "    </tr>\n",
       "  </thead>\n",
       "  <tbody>\n",
       "    <tr>\n",
       "      <th>0</th>\n",
       "      <td>16.012218</td>\n",
       "      <td>8.995343e+06</td>\n",
       "      <td>samsung</td>\n",
       "    </tr>\n",
       "    <tr>\n",
       "      <th>1</th>\n",
       "      <td>9.055124</td>\n",
       "      <td>8.562297e+03</td>\n",
       "      <td>galaxy</td>\n",
       "    </tr>\n",
       "    <tr>\n",
       "      <th>2</th>\n",
       "      <td>8.450611</td>\n",
       "      <td>4.677931e+03</td>\n",
       "      <td>s21</td>\n",
       "    </tr>\n",
       "    <tr>\n",
       "      <th>3</th>\n",
       "      <td>5.379227</td>\n",
       "      <td>2.168546e+02</td>\n",
       "      <td>s20</td>\n",
       "    </tr>\n",
       "    <tr>\n",
       "      <th>4</th>\n",
       "      <td>5.097546</td>\n",
       "      <td>1.636198e+02</td>\n",
       "      <td>ultra</td>\n",
       "    </tr>\n",
       "    <tr>\n",
       "      <th>5</th>\n",
       "      <td>4.330706</td>\n",
       "      <td>7.599795e+01</td>\n",
       "      <td>bud</td>\n",
       "    </tr>\n",
       "    <tr>\n",
       "      <th>6</th>\n",
       "      <td>3.677516</td>\n",
       "      <td>3.954802e+01</td>\n",
       "      <td>s10</td>\n",
       "    </tr>\n",
       "    <tr>\n",
       "      <th>7</th>\n",
       "      <td>3.442453</td>\n",
       "      <td>3.126355e+01</td>\n",
       "      <td>flip</td>\n",
       "    </tr>\n",
       "    <tr>\n",
       "      <th>8</th>\n",
       "      <td>3.427609</td>\n",
       "      <td>3.080291e+01</td>\n",
       "      <td>phone</td>\n",
       "    </tr>\n",
       "    <tr>\n",
       "      <th>9</th>\n",
       "      <td>3.388968</td>\n",
       "      <td>2.963534e+01</td>\n",
       "      <td>note</td>\n",
       "    </tr>\n",
       "    <tr>\n",
       "      <th>10</th>\n",
       "      <td>3.045165</td>\n",
       "      <td>2.101349e+01</td>\n",
       "      <td>smart</td>\n",
       "    </tr>\n",
       "    <tr>\n",
       "      <th>11</th>\n",
       "      <td>3.009862</td>\n",
       "      <td>2.028460e+01</td>\n",
       "      <td>a52</td>\n",
       "    </tr>\n",
       "    <tr>\n",
       "      <th>12</th>\n",
       "      <td>2.935062</td>\n",
       "      <td>1.882267e+01</td>\n",
       "      <td>fold</td>\n",
       "    </tr>\n",
       "    <tr>\n",
       "      <th>13</th>\n",
       "      <td>2.687426</td>\n",
       "      <td>1.469381e+01</td>\n",
       "      <td>tablet</td>\n",
       "    </tr>\n",
       "    <tr>\n",
       "      <th>14</th>\n",
       "      <td>2.573406</td>\n",
       "      <td>1.311041e+01</td>\n",
       "      <td>bixby</td>\n",
       "    </tr>\n",
       "  </tbody>\n",
       "</table>\n",
       "</div>"
      ],
      "text/plain": [
       "         coef      exp_coef    ngram\n",
       "0   16.012218  8.995343e+06  samsung\n",
       "1    9.055124  8.562297e+03   galaxy\n",
       "2    8.450611  4.677931e+03      s21\n",
       "3    5.379227  2.168546e+02      s20\n",
       "4    5.097546  1.636198e+02    ultra\n",
       "5    4.330706  7.599795e+01      bud\n",
       "6    3.677516  3.954802e+01      s10\n",
       "7    3.442453  3.126355e+01     flip\n",
       "8    3.427609  3.080291e+01    phone\n",
       "9    3.388968  2.963534e+01     note\n",
       "10   3.045165  2.101349e+01    smart\n",
       "11   3.009862  2.028460e+01      a52\n",
       "12   2.935062  1.882267e+01     fold\n",
       "13   2.687426  1.469381e+01   tablet\n",
       "14   2.573406  1.311041e+01    bixby"
      ]
     },
     "execution_count": 180,
     "metadata": {},
     "output_type": "execute_result"
    }
   ],
   "source": [
    "# Top Ngrams correlated with r/Samsung\n",
    "top_ss_coefs = coefs.sort_values('exp_coef', ascending = False).head(15).reset_index(drop=True)\n",
    "top_ss_coefs"
   ]
  },
  {
   "cell_type": "markdown",
   "metadata": {},
   "source": [
    "Overall, the common words that have the strongest correlation with r/Samsung are mainly the brand name, devices names and specific models(e.g. galaxy, s21, s20, s10, ultra, note, fold, flip, etc). This is consistent with the EDA.\n",
    "\n",
    "**Interpretation of coefficient:**\n",
    "For every one-unit increase in the word 'galaxy' (X-variable) in a post, the log-odds that the post is in r/Samsung class (Y-variable) increases by 16.01 times, all other variables are held constant."
   ]
  },
  {
   "cell_type": "code",
   "execution_count": 181,
   "metadata": {},
   "outputs": [
    {
     "data": {
      "text/plain": [
       "Text(0.5, 1.0, 'Top 15 Ngrams Correlated with r/Samsung')"
      ]
     },
     "execution_count": 181,
     "metadata": {},
     "output_type": "execute_result"
    },
    {
     "data": {
      "image/png": "[encoded data removed]",
      "text/plain": [
       "<Figure size 720x720 with 1 Axes>"
      ]
     },
     "metadata": {
      "needs_background": "light"
     },
     "output_type": "display_data"
    }
   ],
   "source": [
    "# Plot top Ngrams correlated with r/Samsung\n",
    "plt.figure(figsize=(10,10))\n",
    "sns.barplot(data=top_ss_coefs, x=top_ss_coefs['coef'], y='ngram', palette='Blues_r')\n",
    "plt.ylabel('')\n",
    "plt.title('Top 15 Ngrams Correlated with r/Samsung', fontsize=20)"
   ]
  },
  {
   "cell_type": "code",
   "execution_count": 182,
   "metadata": {},
   "outputs": [
    {
     "data": {
      "text/html": [
       "<div>\n",
       "<style scoped>\n",
       "    .dataframe tbody tr th:only-of-type {\n",
       "        vertical-align: middle;\n",
       "    }\n",
       "\n",
       "    .dataframe tbody tr th {\n",
       "        vertical-align: top;\n",
       "    }\n",
       "\n",
       "    .dataframe thead th {\n",
       "        text-align: right;\n",
       "    }\n",
       "</style>\n",
       "<table border=\"1\" class=\"dataframe\">\n",
       "  <thead>\n",
       "    <tr style=\"text-align: right;\">\n",
       "      <th></th>\n",
       "      <th>coef</th>\n",
       "      <th>exp_coef</th>\n",
       "      <th>ngram</th>\n",
       "    </tr>\n",
       "  </thead>\n",
       "  <tbody>\n",
       "    <tr>\n",
       "      <th>0</th>\n",
       "      <td>-2.736978</td>\n",
       "      <td>0.064766</td>\n",
       "      <td>macos</td>\n",
       "    </tr>\n",
       "    <tr>\n",
       "      <th>1</th>\n",
       "      <td>-2.741295</td>\n",
       "      <td>0.064487</td>\n",
       "      <td>airpod</td>\n",
       "    </tr>\n",
       "    <tr>\n",
       "      <th>2</th>\n",
       "      <td>-2.807282</td>\n",
       "      <td>0.060369</td>\n",
       "      <td>catalina</td>\n",
       "    </tr>\n",
       "    <tr>\n",
       "      <th>3</th>\n",
       "      <td>-2.849256</td>\n",
       "      <td>0.057887</td>\n",
       "      <td>mbp</td>\n",
       "    </tr>\n",
       "    <tr>\n",
       "      <th>4</th>\n",
       "      <td>-2.939296</td>\n",
       "      <td>0.052903</td>\n",
       "      <td>safari</td>\n",
       "    </tr>\n",
       "    <tr>\n",
       "      <th>5</th>\n",
       "      <td>-2.961873</td>\n",
       "      <td>0.051722</td>\n",
       "      <td>imac</td>\n",
       "    </tr>\n",
       "    <tr>\n",
       "      <th>6</th>\n",
       "      <td>-4.015710</td>\n",
       "      <td>0.018030</td>\n",
       "      <td>icloud</td>\n",
       "    </tr>\n",
       "    <tr>\n",
       "      <th>7</th>\n",
       "      <td>-4.048654</td>\n",
       "      <td>0.017446</td>\n",
       "      <td>pro</td>\n",
       "    </tr>\n",
       "    <tr>\n",
       "      <th>8</th>\n",
       "      <td>-4.794054</td>\n",
       "      <td>0.008279</td>\n",
       "      <td>mac</td>\n",
       "    </tr>\n",
       "    <tr>\n",
       "      <th>9</th>\n",
       "      <td>-5.184571</td>\n",
       "      <td>0.005602</td>\n",
       "      <td>ipad</td>\n",
       "    </tr>\n",
       "    <tr>\n",
       "      <th>10</th>\n",
       "      <td>-6.243299</td>\n",
       "      <td>0.001943</td>\n",
       "      <td>airpods</td>\n",
       "    </tr>\n",
       "    <tr>\n",
       "      <th>11</th>\n",
       "      <td>-6.301309</td>\n",
       "      <td>0.001834</td>\n",
       "      <td>io</td>\n",
       "    </tr>\n",
       "    <tr>\n",
       "      <th>12</th>\n",
       "      <td>-6.624027</td>\n",
       "      <td>0.001328</td>\n",
       "      <td>macbook</td>\n",
       "    </tr>\n",
       "    <tr>\n",
       "      <th>13</th>\n",
       "      <td>-9.733565</td>\n",
       "      <td>0.000059</td>\n",
       "      <td>iphone</td>\n",
       "    </tr>\n",
       "    <tr>\n",
       "      <th>14</th>\n",
       "      <td>-11.320972</td>\n",
       "      <td>0.000012</td>\n",
       "      <td>apple</td>\n",
       "    </tr>\n",
       "  </tbody>\n",
       "</table>\n",
       "</div>"
      ],
      "text/plain": [
       "         coef  exp_coef     ngram\n",
       "0   -2.736978  0.064766     macos\n",
       "1   -2.741295  0.064487    airpod\n",
       "2   -2.807282  0.060369  catalina\n",
       "3   -2.849256  0.057887       mbp\n",
       "4   -2.939296  0.052903    safari\n",
       "5   -2.961873  0.051722      imac\n",
       "6   -4.015710  0.018030    icloud\n",
       "7   -4.048654  0.017446       pro\n",
       "8   -4.794054  0.008279       mac\n",
       "9   -5.184571  0.005602      ipad\n",
       "10  -6.243299  0.001943   airpods\n",
       "11  -6.301309  0.001834        io\n",
       "12  -6.624027  0.001328   macbook\n",
       "13  -9.733565  0.000059    iphone\n",
       "14 -11.320972  0.000012     apple"
      ]
     },
     "execution_count": 182,
     "metadata": {},
     "output_type": "execute_result"
    }
   ],
   "source": [
    "# Top Ngrams correlated with r/Apple\n",
    "top_ap_coefs = coefs.sort_values('exp_coef', ascending = False).tail(15).reset_index(drop=True)\n",
    "top_ap_coefs"
   ]
  },
  {
   "cell_type": "markdown",
   "metadata": {},
   "source": [
    "Similarly, the common words that have the strongest correlation with r/Apple are mainly the brand name, product names (iphone, airpods, macbook, ipad, etc) and applications/operating systems that are only available to Apple (e.g. siri, icloud, catalina, etc). This is consistent with the EDA.\n",
    "\n",
    "**Interpretation of coefficient:**\n",
    "For every one-unit increase in the word 'iphone' (X-variable) in a post, the log-odds that the post is in r/Apple class (Y-variable) increases by 9.73 times, all other variables are held constant."
   ]
  },
  {
   "cell_type": "code",
   "execution_count": 183,
   "metadata": {},
   "outputs": [
    {
     "data": {
      "text/plain": [
       "Text(0.5, 1.0, 'Top 15 Ngrams Correlated with r/Apple')"
      ]
     },
     "execution_count": 183,
     "metadata": {},
     "output_type": "execute_result"
    },
    {
     "data": {
      "image/png": "[encoded data removed]",
      "text/plain": [
       "<Figure size 720x720 with 1 Axes>"
      ]
     },
     "metadata": {
      "needs_background": "light"
     },
     "output_type": "display_data"
    }
   ],
   "source": [
    "# Plot top Ngrams correlated with r/Apple\n",
    "plt.figure(figsize=(10,10))\n",
    "sns.barplot(data=top_ap_coefs, x= top_ap_coefs['coef'], y='ngram', palette='Oranges_r')\n",
    "plt.ylabel('')\n",
    "plt.title('Top 15 Ngrams Correlated with r/Apple', fontsize=20)"
   ]
  },
  {
   "cell_type": "markdown",
   "metadata": {},
   "source": [
    "###  Area Under the Curve (AUC) of Receiver Operating Characteristic (ROC)  "
   ]
  },
  {
   "cell_type": "markdown",
   "metadata": {},
   "source": [
    "Let's have a look at the AUC-ROC Curve to help us visualize how well our machine learning classifier is performing. \n",
    "\n",
    "The ROC curve is an evaluation metric for binary classification problems. It is a probability curve that plots the True Positive Rate against False Positive Rate at various threshold values and essentially separates the ‘signal’ from the ‘noise’. The ROC curve is generated by varying our threshold from 0 to 1. This doesn't actually change the threshold or our original predictions, but it helps us to visualize our tradeoff between sensitivity and specificity and understand how well-separated our populations are.\n",
    "\n",
    "The AUC is the measure of the ability of a classifier to distinguish between classes and is used as a summary of the ROC curve. The higher the AUC, the better the performance of the model at distinguishing between the positive and negative classes. This is so because the classifier is able to detect more numbers of True positives and True negatives than False negatives and False positives."
   ]
  },
  {
   "cell_type": "code",
   "execution_count": 184,
   "metadata": {},
   "outputs": [
    {
     "data": {
      "image/png": "[encoded data removed]",
      "text/plain": [
       "<Figure size 720x576 with 1 Axes>"
      ]
     },
     "metadata": {
      "needs_background": "light"
     },
     "output_type": "display_data"
    }
   ],
   "source": [
    "# Plot AUC-ROC Curve \n",
    "# Reference: Lesson codes 4.04 extra practice\n",
    "\n",
    "fig, ax = plt.subplots(1, 1, figsize=(10,8))\n",
    "plot_roc_curve(tvec_lr_gs, X_test, y_test, name='LogisticRegression-TVEC', color='darkblue', ax=ax)\n",
    "plt.plot([0, 1], [0, 1], label='baseline', linestyle='--', color ='orange')\n",
    "plt.suptitle('AUC-ROC Curve', fontsize = 14, )\n",
    "plt.legend()\n",
    "\n",
    "# Save plot\n",
    "plt.savefig('../plots/auc_roc.png', dpi=150, bbox_inches='tight')"
   ]
  },
  {
   "cell_type": "code",
   "execution_count": 185,
   "metadata": {},
   "outputs": [
    {
     "data": {
      "text/plain": [
       "0.9865856047405333"
      ]
     },
     "execution_count": 185,
     "metadata": {},
     "output_type": "execute_result"
    }
   ],
   "source": [
    "# Compute AUC\n",
    "# Ref: https://stackoverflow.com/questions/31159157/different-result-with-roc-auc-score-and-auc\n",
    "roc_auc_score(y_test, tvec_lr_gs.predict_proba(X_test)[:,1])"
   ]
  },
  {
   "cell_type": "markdown",
   "metadata": {},
   "source": [
    "We can see that our selected model is performing very well at distinguishing between the positive and negative classes. This is indicated by the AUC, which is close to 1. The classifier is able to detect more numbers of True positives and True negatives than False negatives and False positives."
   ]
  },
  {
   "cell_type": "markdown",
   "metadata": {},
   "source": [
    "###  Changing Prediction Threshold"
   ]
  },
  {
   "cell_type": "code",
   "execution_count": 186,
   "metadata": {},
   "outputs": [],
   "source": [
    "# We will check out whether we could change our prediction threshold to a custom value\n",
    "def get_predictions(probabilities, threshold):\n",
    "    return [0 if prob < threshold else 1 for prob in probabilities]"
   ]
  },
  {
   "cell_type": "code",
   "execution_count": 187,
   "metadata": {},
   "outputs": [
    {
     "name": "stdout",
     "output_type": "stream",
     "text": [
      "Threshold: 0.25, Accuracy: 0.8910863509749304\n",
      "Threshold: 0.4, Accuracy: 0.9353760445682451\n",
      "Threshold: 0.5, Accuracy: 0.9484679665738162\n",
      "Threshold: 0.6, Accuracy: 0.9403899721448468\n",
      "Threshold: 0.75, Accuracy: 0.8896935933147633\n"
     ]
    }
   ],
   "source": [
    "threshold_list = [0.25, 0.4, 0.5, 0.6, 0.75]\n",
    "\n",
    "for threshold in threshold_list:\n",
    "    preds = get_predictions(tvec_lr_gs.predict_proba(X_test)[:,1], threshold)\n",
    "    acc = accuracy_score(y_test, preds)\n",
    "    print(f'Threshold: {threshold}, Accuracy: {acc}')"
   ]
  },
  {
   "cell_type": "markdown",
   "metadata": {},
   "source": [
    "Based on the above, keeping our threshold at 0.5 is most ideal, with the highest accuracy."
   ]
  },
  {
   "cell_type": "markdown",
   "metadata": {},
   "source": [
    "## 6.Conclusion and Recommendations"
   ]
  },
  {
   "cell_type": "markdown",
   "metadata": {},
   "source": [
    "As demonstrated above, we had selected **Logistic Regression with TF-IDF Vectorizer with hyperparameter tuning** as our best model for deployment to classify Samsung and Apple posts after scoring and evaluating all the models. \n",
    "\n",
    "The test dataset performed well, returning a accuracy score of 0.948468. It can also generalize unseen data well with the small difference in accuracy rate of 0.029710 between the 'train' and 'test' scores. \n",
    "\n",
    "There is also a strong improvement over the baseline accuracy score of 0.507799 by using the normalised prediction of all posts. \n",
    "\n",
    "However, the model has its limitations. As we deep-dived into the wrongly classified posts, posts mentioning switching of brand loyalty from Apple to Samsung or vice versa, are often misclassified. This shows that while r/Apple and r/Samsung are fairly different, they still hold some similarities.  "
   ]
  },
  {
   "cell_type": "markdown",
   "metadata": {},
   "source": [
    "### Recommendations and Future Considerations"
   ]
  },
  {
   "cell_type": "markdown",
   "metadata": {},
   "source": [
    "**1. Consider discussing Apple/ Samsung products in the magazine article**\n",
    "\n",
    "Based on the model's coefficients, the common words that have the strongest predicting power in distinguishing the class are the brand names itself - 'Apple' and 'Samsung', followed by the words that are product-specific. These insights are also similarly observed in the EDA. The Editor-in-chief could consider including some of the latest products that are gaining traction in the magazine article since they are found to be widely discussed. \n",
    "\n",
    "**2. Re-run the model by including additional stopwords like brand names**\n",
    "\n",
    "One of the future considerations is to re-run the model by including the brand names (i.e. 'Apple' and 'Samsung') as stopwords. It would be interesting to see how the model will perform if it disregards the brand names. The model could also surface other strong predictive words that were previously overshadowed by the brand names. \n",
    "\n",
    "**3. Deploy the text classifier to other tech forums**\n",
    "\n",
    "As our model has learnt how to differentiate between 'Apple' and 'Samsung' posts on Reddit, the model can be deployed to other tech forums to help classify posts into the 2 classes. This can ease the burden of the technology journalists to a certain extent as it can help organise their research materials. \n",
    "\n",
    "**4. Perform sentiment analysis**\n",
    "\n",
    "It is not enough to just listen to what people discuss online; it is more important to comprehend the meaning of the online texts. As seen from the Ngrams illustrations, the strong predictive words are primarily related to the product names, which are relatively neutral. More advanced text analytics or sentiment analysis could be conducted to uncover the hidden sentiments behind the online texts. The insights could provide some useful inspiration for the technology journalists' articles."
   ]
  }
 ],
 "metadata": {
  "anaconda-cloud": {},
  "kernelspec": {
   "display_name": "Python 3",
   "language": "python",
   "name": "python3"
  },
  "language_info": {
   "codemirror_mode": {
    "name": "ipython",
    "version": 3
   },
   "file_extension": ".py",
   "mimetype": "text/x-python",
   "name": "python",
   "nbconvert_exporter": "python",
   "pygments_lexer": "ipython3",
   "version": "3.8.8"
  }
 },
 "nbformat": 4,
 "nbformat_minor": 4
}
